{
 "cells": [
  {
   "cell_type": "code",
   "execution_count": 1,
   "id": "8254dbf9",
   "metadata": {},
   "outputs": [],
   "source": [
    "import numpy as np\n",
    "import pandas as pd\n",
    "import matplotlib.pyplot as plt"
   ]
  },
  {
   "cell_type": "code",
   "execution_count": 2,
   "id": "4d12a8ff",
   "metadata": {},
   "outputs": [],
   "source": [
    "from sklearn.preprocessing import StandardScaler, PolynomialFeatures\n",
    "from sklearn.linear_model import LinearRegression\n",
    "from sklearn.model_selection import train_test_split,KFold\n",
    "from sklearn.metrics import accuracy_score, confusion_matrix, precision_score, recall_score, ConfusionMatrixDisplay"
   ]
  },
  {
   "cell_type": "code",
   "execution_count": 3,
   "id": "cbe789f3",
   "metadata": {},
   "outputs": [],
   "source": [
    "data=pd.read_csv('ML_Data_CW.csv')"
   ]
  },
  {
   "cell_type": "code",
   "execution_count": 4,
   "id": "b4fcf1e6",
   "metadata": {},
   "outputs": [
    {
     "data": {
      "text/html": [
       "<div>\n",
       "<style scoped>\n",
       "    .dataframe tbody tr th:only-of-type {\n",
       "        vertical-align: middle;\n",
       "    }\n",
       "\n",
       "    .dataframe tbody tr th {\n",
       "        vertical-align: top;\n",
       "    }\n",
       "\n",
       "    .dataframe thead th {\n",
       "        text-align: right;\n",
       "    }\n",
       "</style>\n",
       "<table border=\"1\" class=\"dataframe\">\n",
       "  <thead>\n",
       "    <tr style=\"text-align: right;\">\n",
       "      <th></th>\n",
       "      <th>label</th>\n",
       "      <th>X_min</th>\n",
       "      <th>X_max</th>\n",
       "      <th>X_range</th>\n",
       "      <th>X_mean</th>\n",
       "      <th>X_rms</th>\n",
       "      <th>X_std</th>\n",
       "      <th>Y_min</th>\n",
       "      <th>Y_max</th>\n",
       "      <th>Y_range</th>\n",
       "      <th>...</th>\n",
       "      <th>Z_jerk_mean</th>\n",
       "      <th>Z_jerk_rms</th>\n",
       "      <th>Z_jerk_std</th>\n",
       "      <th>total_jerk_min</th>\n",
       "      <th>total_jerk_max</th>\n",
       "      <th>total_jerk_range</th>\n",
       "      <th>total_jerk_mean</th>\n",
       "      <th>total_jerk_rms</th>\n",
       "      <th>total_jerk_std</th>\n",
       "      <th>timestamp_range</th>\n",
       "    </tr>\n",
       "  </thead>\n",
       "  <tbody>\n",
       "    <tr>\n",
       "      <th>0</th>\n",
       "      <td>1</td>\n",
       "      <td>-0.502504</td>\n",
       "      <td>-0.030203</td>\n",
       "      <td>0.472301</td>\n",
       "      <td>-0.261169</td>\n",
       "      <td>0.280479</td>\n",
       "      <td>0.102941</td>\n",
       "      <td>-0.600249</td>\n",
       "      <td>-0.250584</td>\n",
       "      <td>0.349666</td>\n",
       "      <td>...</td>\n",
       "      <td>0.244585</td>\n",
       "      <td>5.287233</td>\n",
       "      <td>5.316206</td>\n",
       "      <td>-9.684244</td>\n",
       "      <td>15.159993</td>\n",
       "      <td>24.844237</td>\n",
       "      <td>0.134149</td>\n",
       "      <td>4.993043</td>\n",
       "      <td>5.023970</td>\n",
       "      <td>0.836</td>\n",
       "    </tr>\n",
       "    <tr>\n",
       "      <th>1</th>\n",
       "      <td>1</td>\n",
       "      <td>-0.442316</td>\n",
       "      <td>0.060724</td>\n",
       "      <td>0.503040</td>\n",
       "      <td>-0.230026</td>\n",
       "      <td>0.267338</td>\n",
       "      <td>0.137156</td>\n",
       "      <td>-0.449447</td>\n",
       "      <td>-0.234752</td>\n",
       "      <td>0.214694</td>\n",
       "      <td>...</td>\n",
       "      <td>0.232750</td>\n",
       "      <td>3.246632</td>\n",
       "      <td>3.260383</td>\n",
       "      <td>-7.923931</td>\n",
       "      <td>8.028534</td>\n",
       "      <td>15.952465</td>\n",
       "      <td>0.348228</td>\n",
       "      <td>3.223875</td>\n",
       "      <td>3.226891</td>\n",
       "      <td>0.803</td>\n",
       "    </tr>\n",
       "    <tr>\n",
       "      <th>2</th>\n",
       "      <td>1</td>\n",
       "      <td>-0.356158</td>\n",
       "      <td>0.023600</td>\n",
       "      <td>0.379757</td>\n",
       "      <td>-0.191808</td>\n",
       "      <td>0.213684</td>\n",
       "      <td>0.094770</td>\n",
       "      <td>-0.342600</td>\n",
       "      <td>-0.141993</td>\n",
       "      <td>0.200607</td>\n",
       "      <td>...</td>\n",
       "      <td>-0.056971</td>\n",
       "      <td>2.261067</td>\n",
       "      <td>2.274433</td>\n",
       "      <td>-5.001040</td>\n",
       "      <td>5.078630</td>\n",
       "      <td>10.079670</td>\n",
       "      <td>-0.101737</td>\n",
       "      <td>2.537621</td>\n",
       "      <td>2.551379</td>\n",
       "      <td>0.880</td>\n",
       "    </tr>\n",
       "    <tr>\n",
       "      <th>3</th>\n",
       "      <td>1</td>\n",
       "      <td>-0.541919</td>\n",
       "      <td>0.072603</td>\n",
       "      <td>0.614521</td>\n",
       "      <td>-0.230884</td>\n",
       "      <td>0.282992</td>\n",
       "      <td>0.164753</td>\n",
       "      <td>-0.485829</td>\n",
       "      <td>-0.159352</td>\n",
       "      <td>0.326477</td>\n",
       "      <td>...</td>\n",
       "      <td>0.233179</td>\n",
       "      <td>3.462052</td>\n",
       "      <td>3.477769</td>\n",
       "      <td>-7.164028</td>\n",
       "      <td>11.682707</td>\n",
       "      <td>18.846735</td>\n",
       "      <td>0.235282</td>\n",
       "      <td>3.962899</td>\n",
       "      <td>3.982912</td>\n",
       "      <td>0.803</td>\n",
       "    </tr>\n",
       "    <tr>\n",
       "      <th>4</th>\n",
       "      <td>1</td>\n",
       "      <td>-0.475293</td>\n",
       "      <td>-0.070361</td>\n",
       "      <td>0.404933</td>\n",
       "      <td>-0.239275</td>\n",
       "      <td>0.260390</td>\n",
       "      <td>0.103333</td>\n",
       "      <td>-0.419703</td>\n",
       "      <td>-0.141479</td>\n",
       "      <td>0.278224</td>\n",
       "      <td>...</td>\n",
       "      <td>0.010544</td>\n",
       "      <td>3.357615</td>\n",
       "      <td>3.377764</td>\n",
       "      <td>-14.967910</td>\n",
       "      <td>6.686777</td>\n",
       "      <td>21.654687</td>\n",
       "      <td>0.004709</td>\n",
       "      <td>3.326504</td>\n",
       "      <td>3.346480</td>\n",
       "      <td>0.913</td>\n",
       "    </tr>\n",
       "    <tr>\n",
       "      <th>...</th>\n",
       "      <td>...</td>\n",
       "      <td>...</td>\n",
       "      <td>...</td>\n",
       "      <td>...</td>\n",
       "      <td>...</td>\n",
       "      <td>...</td>\n",
       "      <td>...</td>\n",
       "      <td>...</td>\n",
       "      <td>...</td>\n",
       "      <td>...</td>\n",
       "      <td>...</td>\n",
       "      <td>...</td>\n",
       "      <td>...</td>\n",
       "      <td>...</td>\n",
       "      <td>...</td>\n",
       "      <td>...</td>\n",
       "      <td>...</td>\n",
       "      <td>...</td>\n",
       "      <td>...</td>\n",
       "      <td>...</td>\n",
       "      <td>...</td>\n",
       "    </tr>\n",
       "    <tr>\n",
       "      <th>1004</th>\n",
       "      <td>4</td>\n",
       "      <td>-0.665387</td>\n",
       "      <td>0.280943</td>\n",
       "      <td>0.946330</td>\n",
       "      <td>-0.255369</td>\n",
       "      <td>0.368820</td>\n",
       "      <td>0.267494</td>\n",
       "      <td>-0.386366</td>\n",
       "      <td>0.073939</td>\n",
       "      <td>0.460305</td>\n",
       "      <td>...</td>\n",
       "      <td>0.161364</td>\n",
       "      <td>5.223135</td>\n",
       "      <td>5.247763</td>\n",
       "      <td>-9.084948</td>\n",
       "      <td>17.200102</td>\n",
       "      <td>26.285050</td>\n",
       "      <td>0.216506</td>\n",
       "      <td>4.569351</td>\n",
       "      <td>4.587929</td>\n",
       "      <td>1.056</td>\n",
       "    </tr>\n",
       "    <tr>\n",
       "      <th>1005</th>\n",
       "      <td>4</td>\n",
       "      <td>-0.794374</td>\n",
       "      <td>0.191394</td>\n",
       "      <td>0.985769</td>\n",
       "      <td>-0.333428</td>\n",
       "      <td>0.422535</td>\n",
       "      <td>0.261013</td>\n",
       "      <td>-0.249899</td>\n",
       "      <td>-0.019911</td>\n",
       "      <td>0.229988</td>\n",
       "      <td>...</td>\n",
       "      <td>-0.182326</td>\n",
       "      <td>2.671284</td>\n",
       "      <td>2.680154</td>\n",
       "      <td>-8.378837</td>\n",
       "      <td>6.261163</td>\n",
       "      <td>14.640000</td>\n",
       "      <td>-0.177289</td>\n",
       "      <td>3.246206</td>\n",
       "      <td>3.259726</td>\n",
       "      <td>0.968</td>\n",
       "    </tr>\n",
       "    <tr>\n",
       "      <th>1006</th>\n",
       "      <td>4</td>\n",
       "      <td>-0.902029</td>\n",
       "      <td>-0.018586</td>\n",
       "      <td>0.883443</td>\n",
       "      <td>-0.391159</td>\n",
       "      <td>0.436665</td>\n",
       "      <td>0.195109</td>\n",
       "      <td>-0.241418</td>\n",
       "      <td>0.052878</td>\n",
       "      <td>0.294296</td>\n",
       "      <td>...</td>\n",
       "      <td>0.083980</td>\n",
       "      <td>2.938303</td>\n",
       "      <td>2.952521</td>\n",
       "      <td>-4.770951</td>\n",
       "      <td>6.946535</td>\n",
       "      <td>11.717486</td>\n",
       "      <td>0.024020</td>\n",
       "      <td>2.736484</td>\n",
       "      <td>2.750743</td>\n",
       "      <td>1.045</td>\n",
       "    </tr>\n",
       "    <tr>\n",
       "      <th>1007</th>\n",
       "      <td>4</td>\n",
       "      <td>-0.694884</td>\n",
       "      <td>0.250016</td>\n",
       "      <td>0.944900</td>\n",
       "      <td>-0.284724</td>\n",
       "      <td>0.366149</td>\n",
       "      <td>0.231193</td>\n",
       "      <td>-0.282177</td>\n",
       "      <td>0.114003</td>\n",
       "      <td>0.396180</td>\n",
       "      <td>...</td>\n",
       "      <td>0.321475</td>\n",
       "      <td>6.069543</td>\n",
       "      <td>6.086871</td>\n",
       "      <td>-14.007623</td>\n",
       "      <td>18.447160</td>\n",
       "      <td>32.454783</td>\n",
       "      <td>0.141402</td>\n",
       "      <td>4.968456</td>\n",
       "      <td>4.987622</td>\n",
       "      <td>1.287</td>\n",
       "    </tr>\n",
       "    <tr>\n",
       "      <th>1008</th>\n",
       "      <td>4</td>\n",
       "      <td>-0.684816</td>\n",
       "      <td>0.129413</td>\n",
       "      <td>0.814229</td>\n",
       "      <td>-0.285625</td>\n",
       "      <td>0.393608</td>\n",
       "      <td>0.272431</td>\n",
       "      <td>-0.230299</td>\n",
       "      <td>0.054917</td>\n",
       "      <td>0.285217</td>\n",
       "      <td>...</td>\n",
       "      <td>-0.213856</td>\n",
       "      <td>2.739955</td>\n",
       "      <td>2.747808</td>\n",
       "      <td>-8.846468</td>\n",
       "      <td>7.017245</td>\n",
       "      <td>15.863713</td>\n",
       "      <td>-0.138292</td>\n",
       "      <td>3.460668</td>\n",
       "      <td>3.478426</td>\n",
       "      <td>0.924</td>\n",
       "    </tr>\n",
       "  </tbody>\n",
       "</table>\n",
       "<p>1009 rows × 44 columns</p>\n",
       "</div>"
      ],
      "text/plain": [
       "      label     X_min     X_max   X_range    X_mean     X_rms     X_std  \\\n",
       "0         1 -0.502504 -0.030203  0.472301 -0.261169  0.280479  0.102941   \n",
       "1         1 -0.442316  0.060724  0.503040 -0.230026  0.267338  0.137156   \n",
       "2         1 -0.356158  0.023600  0.379757 -0.191808  0.213684  0.094770   \n",
       "3         1 -0.541919  0.072603  0.614521 -0.230884  0.282992  0.164753   \n",
       "4         1 -0.475293 -0.070361  0.404933 -0.239275  0.260390  0.103333   \n",
       "...     ...       ...       ...       ...       ...       ...       ...   \n",
       "1004      4 -0.665387  0.280943  0.946330 -0.255369  0.368820  0.267494   \n",
       "1005      4 -0.794374  0.191394  0.985769 -0.333428  0.422535  0.261013   \n",
       "1006      4 -0.902029 -0.018586  0.883443 -0.391159  0.436665  0.195109   \n",
       "1007      4 -0.694884  0.250016  0.944900 -0.284724  0.366149  0.231193   \n",
       "1008      4 -0.684816  0.129413  0.814229 -0.285625  0.393608  0.272431   \n",
       "\n",
       "         Y_min     Y_max   Y_range  ...  Z_jerk_mean  Z_jerk_rms  Z_jerk_std  \\\n",
       "0    -0.600249 -0.250584  0.349666  ...     0.244585    5.287233    5.316206   \n",
       "1    -0.449447 -0.234752  0.214694  ...     0.232750    3.246632    3.260383   \n",
       "2    -0.342600 -0.141993  0.200607  ...    -0.056971    2.261067    2.274433   \n",
       "3    -0.485829 -0.159352  0.326477  ...     0.233179    3.462052    3.477769   \n",
       "4    -0.419703 -0.141479  0.278224  ...     0.010544    3.357615    3.377764   \n",
       "...        ...       ...       ...  ...          ...         ...         ...   \n",
       "1004 -0.386366  0.073939  0.460305  ...     0.161364    5.223135    5.247763   \n",
       "1005 -0.249899 -0.019911  0.229988  ...    -0.182326    2.671284    2.680154   \n",
       "1006 -0.241418  0.052878  0.294296  ...     0.083980    2.938303    2.952521   \n",
       "1007 -0.282177  0.114003  0.396180  ...     0.321475    6.069543    6.086871   \n",
       "1008 -0.230299  0.054917  0.285217  ...    -0.213856    2.739955    2.747808   \n",
       "\n",
       "      total_jerk_min  total_jerk_max  total_jerk_range  total_jerk_mean  \\\n",
       "0          -9.684244       15.159993         24.844237         0.134149   \n",
       "1          -7.923931        8.028534         15.952465         0.348228   \n",
       "2          -5.001040        5.078630         10.079670        -0.101737   \n",
       "3          -7.164028       11.682707         18.846735         0.235282   \n",
       "4         -14.967910        6.686777         21.654687         0.004709   \n",
       "...              ...             ...               ...              ...   \n",
       "1004       -9.084948       17.200102         26.285050         0.216506   \n",
       "1005       -8.378837        6.261163         14.640000        -0.177289   \n",
       "1006       -4.770951        6.946535         11.717486         0.024020   \n",
       "1007      -14.007623       18.447160         32.454783         0.141402   \n",
       "1008       -8.846468        7.017245         15.863713        -0.138292   \n",
       "\n",
       "      total_jerk_rms  total_jerk_std  timestamp_range  \n",
       "0           4.993043        5.023970            0.836  \n",
       "1           3.223875        3.226891            0.803  \n",
       "2           2.537621        2.551379            0.880  \n",
       "3           3.962899        3.982912            0.803  \n",
       "4           3.326504        3.346480            0.913  \n",
       "...              ...             ...              ...  \n",
       "1004        4.569351        4.587929            1.056  \n",
       "1005        3.246206        3.259726            0.968  \n",
       "1006        2.736484        2.750743            1.045  \n",
       "1007        4.968456        4.987622            1.287  \n",
       "1008        3.460668        3.478426            0.924  \n",
       "\n",
       "[1009 rows x 44 columns]"
      ]
     },
     "execution_count": 4,
     "metadata": {},
     "output_type": "execute_result"
    }
   ],
   "source": [
    "data"
   ]
  },
  {
   "cell_type": "code",
   "execution_count": 5,
   "id": "f805bb79",
   "metadata": {},
   "outputs": [],
   "source": [
    "x=data.drop(['label'], axis=1)\n",
    "y=data['label']"
   ]
  },
  {
   "cell_type": "code",
   "execution_count": 6,
   "id": "463a7371",
   "metadata": {},
   "outputs": [
    {
     "data": {
      "text/plain": [
       "((857, 43), (152, 43))"
      ]
     },
     "execution_count": 6,
     "metadata": {},
     "output_type": "execute_result"
    }
   ],
   "source": [
    "x_train, x_test, y_train, y_test= train_test_split(x,y,test_size=0.15, random_state=42)\n",
    "x_train.shape, x_test.shape"
   ]
  },
  {
   "cell_type": "code",
   "execution_count": 7,
   "id": "f32cbf6e",
   "metadata": {},
   "outputs": [],
   "source": [
    "scaled=StandardScaler()\n",
    "x_train_s=scaled.fit_transform(x_train)\n",
    "x_test_s=scaled.fit_transform(x_test)"
   ]
  },
  {
   "cell_type": "code",
   "execution_count": 8,
   "id": "5745d97a",
   "metadata": {},
   "outputs": [],
   "source": [
    "from sklearn.ensemble import RandomForestClassifier,GradientBoostingClassifier, HistGradientBoostingClassifier\n",
    "from lightgbm import LGBMClassifier\n",
    "from xgboost import XGBClassifier\n",
    "from sklearn.metrics import accuracy_score,f1_score"
   ]
  },
  {
   "cell_type": "markdown",
   "id": "10a7f80b",
   "metadata": {},
   "source": [
    "# Random Forest Classifier"
   ]
  },
  {
   "cell_type": "code",
   "execution_count": 9,
   "id": "50e491d1",
   "metadata": {},
   "outputs": [
    {
     "data": {
      "text/plain": [
       "1.0"
      ]
     },
     "execution_count": 9,
     "metadata": {},
     "output_type": "execute_result"
    }
   ],
   "source": [
    "model=RandomForestClassifier().fit(x_train_s, y_train)\n",
    "y_train_pred=model.predict(x_train_s)\n",
    "accuracy_score(y_train_pred, y_train)"
   ]
  },
  {
   "cell_type": "code",
   "execution_count": 11,
   "id": "aa6890e7",
   "metadata": {},
   "outputs": [
    {
     "ename": "AxisError",
     "evalue": "axis 1 is out of bounds for array of dimension 1",
     "output_type": "error",
     "traceback": [
      "\u001b[0;31m---------------------------------------------------------------------------\u001b[0m",
      "\u001b[0;31mAxisError\u001b[0m                                 Traceback (most recent call last)",
      "Cell \u001b[0;32mIn[11], line 2\u001b[0m\n\u001b[1;32m      1\u001b[0m y_pred \u001b[38;5;241m=\u001b[39m model\u001b[38;5;241m.\u001b[39mpredict(x_test_s)\n\u001b[0;32m----> 2\u001b[0m y_pred_classes \u001b[38;5;241m=\u001b[39m \u001b[43mnp\u001b[49m\u001b[38;5;241;43m.\u001b[39;49m\u001b[43margmax\u001b[49m\u001b[43m(\u001b[49m\u001b[43my_pred\u001b[49m\u001b[43m,\u001b[49m\u001b[43m \u001b[49m\u001b[43maxis\u001b[49m\u001b[38;5;241;43m=\u001b[39;49m\u001b[38;5;241;43m1\u001b[39;49m\u001b[43m)\u001b[49m\n\u001b[1;32m      4\u001b[0m \u001b[38;5;66;03m# Check if y_test is already in label format (i.e., not one-hot encoded)\u001b[39;00m\n\u001b[1;32m      5\u001b[0m \u001b[38;5;28;01mif\u001b[39;00m \u001b[38;5;28mlen\u001b[39m(y_test\u001b[38;5;241m.\u001b[39mshape) \u001b[38;5;241m==\u001b[39m \u001b[38;5;241m1\u001b[39m \u001b[38;5;129;01mor\u001b[39;00m y_test\u001b[38;5;241m.\u001b[39mshape[\u001b[38;5;241m1\u001b[39m] \u001b[38;5;241m==\u001b[39m \u001b[38;5;241m1\u001b[39m:\n",
      "File \u001b[0;32m<__array_function__ internals>:200\u001b[0m, in \u001b[0;36margmax\u001b[0;34m(*args, **kwargs)\u001b[0m\n",
      "File \u001b[0;32m/usr/lib/python3/dist-packages/numpy/core/fromnumeric.py:1242\u001b[0m, in \u001b[0;36margmax\u001b[0;34m(a, axis, out, keepdims)\u001b[0m\n\u001b[1;32m   1155\u001b[0m \u001b[38;5;250m\u001b[39m\u001b[38;5;124;03m\"\"\"\u001b[39;00m\n\u001b[1;32m   1156\u001b[0m \u001b[38;5;124;03mReturns the indices of the maximum values along an axis.\u001b[39;00m\n\u001b[1;32m   1157\u001b[0m \n\u001b[0;32m   (...)\u001b[0m\n\u001b[1;32m   1239\u001b[0m \u001b[38;5;124;03m(2, 1, 4)\u001b[39;00m\n\u001b[1;32m   1240\u001b[0m \u001b[38;5;124;03m\"\"\"\u001b[39;00m\n\u001b[1;32m   1241\u001b[0m kwds \u001b[38;5;241m=\u001b[39m {\u001b[38;5;124m'\u001b[39m\u001b[38;5;124mkeepdims\u001b[39m\u001b[38;5;124m'\u001b[39m: keepdims} \u001b[38;5;28;01mif\u001b[39;00m keepdims \u001b[38;5;129;01mis\u001b[39;00m \u001b[38;5;129;01mnot\u001b[39;00m np\u001b[38;5;241m.\u001b[39m_NoValue \u001b[38;5;28;01melse\u001b[39;00m {}\n\u001b[0;32m-> 1242\u001b[0m \u001b[38;5;28;01mreturn\u001b[39;00m \u001b[43m_wrapfunc\u001b[49m\u001b[43m(\u001b[49m\u001b[43ma\u001b[49m\u001b[43m,\u001b[49m\u001b[43m \u001b[49m\u001b[38;5;124;43m'\u001b[39;49m\u001b[38;5;124;43margmax\u001b[39;49m\u001b[38;5;124;43m'\u001b[39;49m\u001b[43m,\u001b[49m\u001b[43m \u001b[49m\u001b[43maxis\u001b[49m\u001b[38;5;241;43m=\u001b[39;49m\u001b[43maxis\u001b[49m\u001b[43m,\u001b[49m\u001b[43m \u001b[49m\u001b[43mout\u001b[49m\u001b[38;5;241;43m=\u001b[39;49m\u001b[43mout\u001b[49m\u001b[43m,\u001b[49m\u001b[43m \u001b[49m\u001b[38;5;241;43m*\u001b[39;49m\u001b[38;5;241;43m*\u001b[39;49m\u001b[43mkwds\u001b[49m\u001b[43m)\u001b[49m\n",
      "File \u001b[0;32m/usr/lib/python3/dist-packages/numpy/core/fromnumeric.py:57\u001b[0m, in \u001b[0;36m_wrapfunc\u001b[0;34m(obj, method, *args, **kwds)\u001b[0m\n\u001b[1;32m     54\u001b[0m     \u001b[38;5;28;01mreturn\u001b[39;00m _wrapit(obj, method, \u001b[38;5;241m*\u001b[39margs, \u001b[38;5;241m*\u001b[39m\u001b[38;5;241m*\u001b[39mkwds)\n\u001b[1;32m     56\u001b[0m \u001b[38;5;28;01mtry\u001b[39;00m:\n\u001b[0;32m---> 57\u001b[0m     \u001b[38;5;28;01mreturn\u001b[39;00m \u001b[43mbound\u001b[49m\u001b[43m(\u001b[49m\u001b[38;5;241;43m*\u001b[39;49m\u001b[43margs\u001b[49m\u001b[43m,\u001b[49m\u001b[43m \u001b[49m\u001b[38;5;241;43m*\u001b[39;49m\u001b[38;5;241;43m*\u001b[39;49m\u001b[43mkwds\u001b[49m\u001b[43m)\u001b[49m\n\u001b[1;32m     58\u001b[0m \u001b[38;5;28;01mexcept\u001b[39;00m \u001b[38;5;167;01mTypeError\u001b[39;00m:\n\u001b[1;32m     59\u001b[0m     \u001b[38;5;66;03m# A TypeError occurs if the object does have such a method in its\u001b[39;00m\n\u001b[1;32m     60\u001b[0m     \u001b[38;5;66;03m# class, but its signature is not identical to that of NumPy's. This\u001b[39;00m\n\u001b[0;32m   (...)\u001b[0m\n\u001b[1;32m     64\u001b[0m     \u001b[38;5;66;03m# Call _wrapit from within the except clause to ensure a potential\u001b[39;00m\n\u001b[1;32m     65\u001b[0m     \u001b[38;5;66;03m# exception has a traceback chain.\u001b[39;00m\n\u001b[1;32m     66\u001b[0m     \u001b[38;5;28;01mreturn\u001b[39;00m _wrapit(obj, method, \u001b[38;5;241m*\u001b[39margs, \u001b[38;5;241m*\u001b[39m\u001b[38;5;241m*\u001b[39mkwds)\n",
      "\u001b[0;31mAxisError\u001b[0m: axis 1 is out of bounds for array of dimension 1"
     ]
    }
   ],
   "source": [
    "y_pred = model.predict(x_test_s)\n",
    "y_pred_classes = np.argmax(y_pred, axis=1)\n",
    "\n",
    "# Check if y_test is already in label format (i.e., not one-hot encoded)\n",
    "if len(y_test.shape) == 1 or y_test.shape[1] == 1:\n",
    "    y_true = y_test  # If y_test is already in label format\n",
    "else:\n",
    "    y_true = np.argmax(y_test, axis=1)  # Convert one-hot encoded y_test to labels\n",
    "\n",
    "# Compute the confusion matrix\n",
    "conf_matrix = confusion_matrix(y_true, y_pred_classes)\n",
    "\n",
    "# Plot the confusion matrix\n",
    "plt.figure(figsize=(10, 8))\n",
    "sns.heatmap(conf_matrix, annot=True, fmt='d', cmap='Blues')\n",
    "plt.xlabel('Predicted Label')\n",
    "plt.ylabel('True Label')\n",
    "plt.title('Confusion Matrix')\n",
    "plt.show()\n",
    "\n",
    "# Calculate Precision, Recall, and F1 Score\n",
    "from sklearn.metrics import classification_report\n",
    "\n",
    "# Generate classification report\n",
    "class_report = classification_report(y_true, y_pred_classes, target_names=[str(i) for i in range(len(np.unique(y_true)))])\n",
    "print(\"Classification Report:\")\n",
    "print(class_report)"
   ]
  },
  {
   "cell_type": "code",
   "execution_count": 10,
   "id": "66e330de",
   "metadata": {},
   "outputs": [
    {
     "data": {
      "image/png": "[encoded data removed]",
      "text/plain": [
       "<Figure size 640x480 with 2 Axes>"
      ]
     },
     "metadata": {},
     "output_type": "display_data"
    }
   ],
   "source": [
    "y_test_pred = model.predict(x_test_s)\n",
    "cm = confusion_matrix(y_test, y_test_pred)\n",
    "ConfusionMatrixDisplay(confusion_matrix=cm).plot();"
   ]
  },
  {
   "cell_type": "code",
   "execution_count": 11,
   "id": "cad1fb1a",
   "metadata": {},
   "outputs": [
    {
     "name": "stdout",
     "output_type": "stream",
     "text": [
      "0.7631578947368421\n",
      "0.7649942406521354\n",
      "0.7631578947368421\n",
      "0.7622009125817317\n"
     ]
    }
   ],
   "source": [
    "print(accuracy_score(y_test_pred,y_test))\n",
    "print(precision_score(y_test_pred,y_test, average='weighted'))\n",
    "print(recall_score(y_test_pred, y_test, average='weighted'))\n",
    "print(f1_score(y_test_pred, y_test, average='weighted'))"
   ]
  },
  {
   "cell_type": "markdown",
   "id": "b8d8b982",
   "metadata": {},
   "source": [
    "# Gradient Boosting"
   ]
  },
  {
   "cell_type": "code",
   "execution_count": 12,
   "id": "7e8c4719",
   "metadata": {},
   "outputs": [
    {
     "data": {
      "text/plain": [
       "1.0"
      ]
     },
     "execution_count": 12,
     "metadata": {},
     "output_type": "execute_result"
    }
   ],
   "source": [
    "model=GradientBoostingClassifier().fit(x_train_s, y_train)\n",
    "y_train_pred=model.predict(x_train_s)\n",
    "accuracy_score(y_train_pred, y_train)"
   ]
  },
  {
   "cell_type": "code",
   "execution_count": 13,
   "id": "be870d8b",
   "metadata": {},
   "outputs": [
    {
     "data": {
      "image/png": "[encoded data removed]",
      "text/plain": [
       "<Figure size 640x480 with 2 Axes>"
      ]
     },
     "metadata": {},
     "output_type": "display_data"
    }
   ],
   "source": [
    "y_test_pred = model.predict(x_test_s)\n",
    "cm = confusion_matrix(y_test, y_test_pred)\n",
    "ConfusionMatrixDisplay(confusion_matrix=cm).plot();"
   ]
  },
  {
   "cell_type": "code",
   "execution_count": 14,
   "id": "c48ea9b9",
   "metadata": {},
   "outputs": [
    {
     "name": "stdout",
     "output_type": "stream",
     "text": [
      "0.8092105263157895\n",
      "0.8181481165033797\n",
      "0.8092105263157895\n",
      "0.8110476143858834\n"
     ]
    }
   ],
   "source": [
    "print(accuracy_score(y_test_pred,y_test))\n",
    "print(precision_score(y_test_pred,y_test, average='weighted'))\n",
    "print(recall_score(y_test_pred, y_test, average='weighted'))\n",
    "print(f1_score(y_test_pred, y_test, average='weighted'))"
   ]
  },
  {
   "cell_type": "markdown",
   "id": "ea1e5944",
   "metadata": {},
   "source": [
    "# LGBM"
   ]
  },
  {
   "cell_type": "code",
   "execution_count": 15,
   "id": "59ebc6ff",
   "metadata": {},
   "outputs": [
    {
     "name": "stdout",
     "output_type": "stream",
     "text": [
      "[LightGBM] [Info] Auto-choosing col-wise multi-threading, the overhead of testing was 0.000321 seconds.\n",
      "You can set `force_col_wise=true` to remove the overhead.\n",
      "[LightGBM] [Info] Total Bins 10820\n",
      "[LightGBM] [Info] Number of data points in the train set: 857, number of used features: 43\n",
      "[LightGBM] [Info] Start training from score -1.641450\n",
      "[LightGBM] [Info] Start training from score -1.600146\n",
      "[LightGBM] [Info] Start training from score -1.543952\n",
      "[LightGBM] [Info] Start training from score -1.594383\n",
      "[LightGBM] [Info] Start training from score -1.672034\n",
      "[LightGBM] [Warning] No further splits with positive gain, best gain: -inf\n",
      "[LightGBM] [Warning] No further splits with positive gain, best gain: -inf\n",
      "[LightGBM] [Warning] No further splits with positive gain, best gain: -inf\n",
      "[LightGBM] [Warning] No further splits with positive gain, best gain: -inf\n",
      "[LightGBM] [Warning] No further splits with positive gain, best gain: -inf\n",
      "[LightGBM] [Warning] No further splits with positive gain, best gain: -inf\n",
      "[LightGBM] [Warning] No further splits with positive gain, best gain: -inf\n",
      "[LightGBM] [Warning] No further splits with positive gain, best gain: -inf\n",
      "[LightGBM] [Warning] No further splits with positive gain, best gain: -inf\n",
      "[LightGBM] [Warning] No further splits with positive gain, best gain: -inf\n",
      "[LightGBM] [Warning] No further splits with positive gain, best gain: -inf\n",
      "[LightGBM] [Warning] No further splits with positive gain, best gain: -inf\n",
      "[LightGBM] [Warning] No further splits with positive gain, best gain: -inf\n",
      "[LightGBM] [Warning] No further splits with positive gain, best gain: -inf\n",
      "[LightGBM] [Warning] No further splits with positive gain, best gain: -inf\n",
      "[LightGBM] [Warning] No further splits with positive gain, best gain: -inf\n",
      "[LightGBM] [Warning] No further splits with positive gain, best gain: -inf\n",
      "[LightGBM] [Warning] No further splits with positive gain, best gain: -inf\n",
      "[LightGBM] [Warning] No further splits with positive gain, best gain: -inf\n",
      "[LightGBM] [Warning] No further splits with positive gain, best gain: -inf\n",
      "[LightGBM] [Warning] No further splits with positive gain, best gain: -inf\n",
      "[LightGBM] [Warning] No further splits with positive gain, best gain: -inf\n",
      "[LightGBM] [Warning] No further splits with positive gain, best gain: -inf\n",
      "[LightGBM] [Warning] No further splits with positive gain, best gain: -inf\n",
      "[LightGBM] [Warning] No further splits with positive gain, best gain: -inf\n",
      "[LightGBM] [Warning] No further splits with positive gain, best gain: -inf\n",
      "[LightGBM] [Warning] No further splits with positive gain, best gain: -inf\n",
      "[LightGBM] [Warning] No further splits with positive gain, best gain: -inf\n",
      "[LightGBM] [Warning] No further splits with positive gain, best gain: -inf\n"
     ]
    },
    {
     "data": {
      "text/plain": [
       "1.0"
      ]
     },
     "execution_count": 15,
     "metadata": {},
     "output_type": "execute_result"
    }
   ],
   "source": [
    "model=LGBMClassifier().fit(x_train_s, y_train)\n",
    "y_train_pred=model.predict(x_train_s)\n",
    "accuracy_score(y_train_pred, y_train)"
   ]
  },
  {
   "cell_type": "code",
   "execution_count": 16,
   "id": "a095c136",
   "metadata": {},
   "outputs": [
    {
     "data": {
      "image/png": "[encoded data removed]",
      "text/plain": [
       "<Figure size 640x480 with 2 Axes>"
      ]
     },
     "metadata": {},
     "output_type": "display_data"
    }
   ],
   "source": [
    "y_test_pred = model.predict(x_test_s)\n",
    "cm = confusion_matrix(y_test, y_test_pred)\n",
    "ConfusionMatrixDisplay(confusion_matrix=cm).plot();"
   ]
  },
  {
   "cell_type": "code",
   "execution_count": 17,
   "id": "7dc60f85",
   "metadata": {},
   "outputs": [
    {
     "name": "stdout",
     "output_type": "stream",
     "text": [
      "0.8157894736842105\n",
      "0.8278777752461962\n",
      "0.8157894736842105\n",
      "0.8190024938036609\n"
     ]
    }
   ],
   "source": [
    "print(accuracy_score(y_test_pred,y_test))\n",
    "print(precision_score(y_test_pred,y_test, average='weighted'))\n",
    "print(recall_score(y_test_pred, y_test, average='weighted'))\n",
    "print(f1_score(y_test_pred, y_test, average='weighted'))"
   ]
  },
  {
   "cell_type": "markdown",
   "id": "d50044c0",
   "metadata": {},
   "source": [
    "# XGBoost"
   ]
  },
  {
   "cell_type": "code",
   "execution_count": 18,
   "id": "6be6a4ed",
   "metadata": {},
   "outputs": [
    {
     "data": {
      "text/plain": [
       "1.0"
      ]
     },
     "execution_count": 18,
     "metadata": {},
     "output_type": "execute_result"
    }
   ],
   "source": [
    "model=XGBClassifier().fit(x_train_s, y_train)\n",
    "y_train_pred=model.predict(x_train_s)\n",
    "accuracy_score(y_train_pred, y_train)"
   ]
  },
  {
   "cell_type": "code",
   "execution_count": 19,
   "id": "17a45f8e",
   "metadata": {},
   "outputs": [
    {
     "data": {
      "image/png": "[encoded data removed]",
      "text/plain": [
       "<Figure size 640x480 with 2 Axes>"
      ]
     },
     "metadata": {},
     "output_type": "display_data"
    }
   ],
   "source": [
    "y_test_pred = model.predict(x_test_s)\n",
    "cm = confusion_matrix(y_test, y_test_pred)\n",
    "ConfusionMatrixDisplay(confusion_matrix=cm).plot();"
   ]
  },
  {
   "cell_type": "code",
   "execution_count": 20,
   "id": "d427a2ee",
   "metadata": {},
   "outputs": [
    {
     "name": "stdout",
     "output_type": "stream",
     "text": [
      "0.8157894736842105\n",
      "0.822505126452495\n",
      "0.8157894736842105\n",
      "0.8171403214108486\n"
     ]
    }
   ],
   "source": [
    "print(accuracy_score(y_test_pred,y_test))\n",
    "print(precision_score(y_test_pred,y_test, average='weighted'))\n",
    "print(recall_score(y_test_pred, y_test, average='weighted'))\n",
    "print(f1_score(y_test_pred, y_test, average='weighted'))"
   ]
  },
  {
   "cell_type": "markdown",
   "id": "866ed6b1",
   "metadata": {},
   "source": [
    "# HistGradient Boosting"
   ]
  },
  {
   "cell_type": "code",
   "execution_count": 21,
   "id": "041e0ff6",
   "metadata": {},
   "outputs": [
    {
     "data": {
      "text/plain": [
       "1.0"
      ]
     },
     "execution_count": 21,
     "metadata": {},
     "output_type": "execute_result"
    }
   ],
   "source": [
    "model=HistGradientBoostingClassifier().fit(x_train_s, y_train)\n",
    "y_train_pred=model.predict(x_train_s)\n",
    "accuracy_score(y_train_pred, y_train)"
   ]
  },
  {
   "cell_type": "code",
   "execution_count": 22,
   "id": "5c2277f0",
   "metadata": {},
   "outputs": [
    {
     "data": {
      "image/png": "[encoded data removed]",
      "text/plain": [
       "<Figure size 640x480 with 2 Axes>"
      ]
     },
     "metadata": {},
     "output_type": "display_data"
    }
   ],
   "source": [
    "y_test_pred = model.predict(x_test_s)\n",
    "cm = confusion_matrix(y_test, y_test_pred)\n",
    "ConfusionMatrixDisplay(confusion_matrix=cm).plot();"
   ]
  },
  {
   "cell_type": "code",
   "execution_count": 23,
   "id": "7382aeeb",
   "metadata": {},
   "outputs": [
    {
     "name": "stdout",
     "output_type": "stream",
     "text": [
      "0.8157894736842105\n",
      "0.8221975393028025\n",
      "0.8157894736842105\n",
      "0.8165734839659969\n"
     ]
    }
   ],
   "source": [
    "print(accuracy_score(y_test_pred,y_test))\n",
    "print(precision_score(y_test_pred,y_test, average='weighted'))\n",
    "print(recall_score(y_test_pred, y_test, average='weighted'))\n",
    "print(f1_score(y_test_pred, y_test, average='weighted'))"
   ]
  },
  {
   "cell_type": "code",
   "execution_count": null,
   "id": "ee43a4ea",
   "metadata": {},
   "outputs": [],
   "source": []
  }
 ],
 "metadata": {
  "kernelspec": {
   "display_name": "Python 3 (ipykernel)",
   "language": "python",
   "name": "python3"
  },
  "language_info": {
   "codemirror_mode": {
    "name": "ipython",
    "version": 3
   },
   "file_extension": ".py",
   "mimetype": "text/x-python",
   "name": "python",
   "nbconvert_exporter": "python",
   "pygments_lexer": "ipython3",
   "version": "3.11.6"
  }
 },
 "nbformat": 4,
 "nbformat_minor": 5
}
