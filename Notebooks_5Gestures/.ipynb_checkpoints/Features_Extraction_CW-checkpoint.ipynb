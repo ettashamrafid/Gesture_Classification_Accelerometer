{
 "cells": [
  {
   "cell_type": "code",
   "execution_count": 1,
   "id": "9a2ee223",
   "metadata": {},
   "outputs": [],
   "source": [
    "import numpy as np\n",
    "import pandas as pd\n",
    "import matplotlib.pyplot as plt"
   ]
  },
  {
   "cell_type": "code",
   "execution_count": 2,
   "id": "17d3bb67",
   "metadata": {},
   "outputs": [],
   "source": [
    "import seaborn as sns\n",
    "import os"
   ]
  },
  {
   "cell_type": "code",
   "execution_count": 3,
   "id": "73971739",
   "metadata": {},
   "outputs": [],
   "source": [
    "data=pd.read_csv('ML_Data_CW.csv')"
   ]
  },
  {
   "cell_type": "code",
   "execution_count": 4,
   "id": "e8fee1e7",
   "metadata": {},
   "outputs": [],
   "source": [
    "custom_palette = {\n",
    "    0: 'orange',\n",
    "    1: 'red',\n",
    "    2: 'purple',\n",
    "    3: 'green',\n",
    "    4: 'blue'\n",
    "}"
   ]
  },
  {
   "cell_type": "code",
   "execution_count": 5,
   "id": "959ad2d4",
   "metadata": {},
   "outputs": [
    {
     "name": "stderr",
     "output_type": "stream",
     "text": [
      "/tmp/ipykernel_4162/272070748.py:14: RuntimeWarning: More than 20 figures have been opened. Figures created through the pyplot interface (`matplotlib.pyplot.figure`) are retained until explicitly closed and may consume too much memory. (To control this warning, see the rcParam `figure.max_open_warning`). Consider using `matplotlib.pyplot.close()`.\n",
      "  plt.figure(figsize=(10, 6))  # Set the figure size for better clarity\n"
     ]
    }
   ],
   "source": [
    "save_dir = '/home/ettexham/Desktop/Thesis/Accelerometer Data/DataSet/Clockwise_Notebooks/Features/'\n",
    "\n",
    "# Check if the directory exists, if not, create it\n",
    "if not os.path.exists(save_dir):\n",
    "    os.makedirs(save_dir)\n",
    "\n",
    "# Iterate through each column in the dataframe (excluding 'folder_label' and any non-numeric columns)\n",
    "for column in data.columns:\n",
    "    if column != 'label':\n",
    "        # Create a filename for the plot based on the column name\n",
    "        filename = column + '.png'\n",
    "        \n",
    "        # Create the plot\n",
    "        plt.figure(figsize=(10, 6))  # Set the figure size for better clarity\n",
    "        sns.lineplot(data=data, x=data.index, y=column, hue='label', palette=custom_palette)\n",
    "        \n",
    "        # Set labels and title\n",
    "        plt.xlabel('Index')\n",
    "        plt.ylabel(column)\n",
    "        plt.title(column)\n",
    "        \n",
    "        # Save the plot to the specified folder\n",
    "        plt.savefig(os.path.join(save_dir, filename))\n",
    "        \n",
    "        # Clear the current plot to prepare for the next iteration\n",
    "        plt.clf()  # Clear the current figure\n",
    "        \n",
    "# Close any remaining plots\n",
    "plt.close('all')"
   ]
  },
  {
   "cell_type": "code",
   "execution_count": null,
   "id": "791192f7",
   "metadata": {},
   "outputs": [],
   "source": []
  }
 ],
 "metadata": {
  "kernelspec": {
   "display_name": "Python 3 (ipykernel)",
   "language": "python",
   "name": "python3"
  },
  "language_info": {
   "codemirror_mode": {
    "name": "ipython",
    "version": 3
   },
   "file_extension": ".py",
   "mimetype": "text/x-python",
   "name": "python",
   "nbconvert_exporter": "python",
   "pygments_lexer": "ipython3",
   "version": "3.11.6"
  }
 },
 "nbformat": 4,
 "nbformat_minor": 5
}
