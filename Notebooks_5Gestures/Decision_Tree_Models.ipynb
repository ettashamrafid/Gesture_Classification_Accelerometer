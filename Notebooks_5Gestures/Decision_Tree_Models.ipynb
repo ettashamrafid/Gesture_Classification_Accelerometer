{
 "cells": [
  {
   "cell_type": "code",
   "execution_count": 1,
   "id": "8254dbf9",
   "metadata": {},
   "outputs": [],
   "source": [
    "import numpy as np\n",
    "import pandas as pd\n",
    "import matplotlib.pyplot as plt\n",
    "import seaborn as sns"
   ]
  },
  {
   "cell_type": "code",
   "execution_count": 2,
   "id": "4d12a8ff",
   "metadata": {},
   "outputs": [],
   "source": [
    "from sklearn.preprocessing import StandardScaler, PolynomialFeatures\n",
    "from sklearn.linear_model import LinearRegression\n",
    "from sklearn.model_selection import train_test_split,KFold\n",
    "from sklearn.metrics import accuracy_score, confusion_matrix, precision_score, recall_score, ConfusionMatrixDisplay"
   ]
  },
  {
   "cell_type": "code",
   "execution_count": 3,
   "id": "cbe789f3",
   "metadata": {},
   "outputs": [],
   "source": [
    "data=pd.read_csv('ML_Data_CW.csv')"
   ]
  },
  {
   "cell_type": "code",
   "execution_count": 4,
   "id": "b4fcf1e6",
   "metadata": {},
   "outputs": [
    {
     "data": {
      "text/html": [
       "<div>\n",
       "<style scoped>\n",
       "    .dataframe tbody tr th:only-of-type {\n",
       "        vertical-align: middle;\n",
       "    }\n",
       "\n",
       "    .dataframe tbody tr th {\n",
       "        vertical-align: top;\n",
       "    }\n",
       "\n",
       "    .dataframe thead th {\n",
       "        text-align: right;\n",
       "    }\n",
       "</style>\n",
       "<table border=\"1\" class=\"dataframe\">\n",
       "  <thead>\n",
       "    <tr style=\"text-align: right;\">\n",
       "      <th></th>\n",
       "      <th>label</th>\n",
       "      <th>X_min</th>\n",
       "      <th>X_max</th>\n",
       "      <th>X_range</th>\n",
       "      <th>X_mean</th>\n",
       "      <th>X_rms</th>\n",
       "      <th>X_std</th>\n",
       "      <th>Y_min</th>\n",
       "      <th>Y_max</th>\n",
       "      <th>Y_range</th>\n",
       "      <th>...</th>\n",
       "      <th>Z_jerk_mean</th>\n",
       "      <th>Z_jerk_rms</th>\n",
       "      <th>Z_jerk_std</th>\n",
       "      <th>total_jerk_min</th>\n",
       "      <th>total_jerk_max</th>\n",
       "      <th>total_jerk_range</th>\n",
       "      <th>total_jerk_mean</th>\n",
       "      <th>total_jerk_rms</th>\n",
       "      <th>total_jerk_std</th>\n",
       "      <th>timestamp_range</th>\n",
       "    </tr>\n",
       "  </thead>\n",
       "  <tbody>\n",
       "    <tr>\n",
       "      <th>0</th>\n",
       "      <td>1</td>\n",
       "      <td>-0.589872</td>\n",
       "      <td>0.347272</td>\n",
       "      <td>0.937143</td>\n",
       "      <td>-0.194542</td>\n",
       "      <td>0.268091</td>\n",
       "      <td>0.185794</td>\n",
       "      <td>-1.267788</td>\n",
       "      <td>0.004404</td>\n",
       "      <td>1.272193</td>\n",
       "      <td>...</td>\n",
       "      <td>-0.275866</td>\n",
       "      <td>16.042870</td>\n",
       "      <td>16.156316</td>\n",
       "      <td>-24.266511</td>\n",
       "      <td>29.783611</td>\n",
       "      <td>54.050122</td>\n",
       "      <td>-0.272102</td>\n",
       "      <td>11.621308</td>\n",
       "      <td>11.702008</td>\n",
       "      <td>0.759</td>\n",
       "    </tr>\n",
       "    <tr>\n",
       "      <th>1</th>\n",
       "      <td>1</td>\n",
       "      <td>-0.678279</td>\n",
       "      <td>0.259369</td>\n",
       "      <td>0.937648</td>\n",
       "      <td>-0.200295</td>\n",
       "      <td>0.283716</td>\n",
       "      <td>0.202370</td>\n",
       "      <td>-2.018337</td>\n",
       "      <td>0.155951</td>\n",
       "      <td>2.174288</td>\n",
       "      <td>...</td>\n",
       "      <td>-0.017593</td>\n",
       "      <td>19.087411</td>\n",
       "      <td>19.223258</td>\n",
       "      <td>-47.033978</td>\n",
       "      <td>40.079267</td>\n",
       "      <td>87.113246</td>\n",
       "      <td>0.439634</td>\n",
       "      <td>14.617773</td>\n",
       "      <td>14.715156</td>\n",
       "      <td>0.770</td>\n",
       "    </tr>\n",
       "    <tr>\n",
       "      <th>2</th>\n",
       "      <td>1</td>\n",
       "      <td>-0.703621</td>\n",
       "      <td>0.355244</td>\n",
       "      <td>1.058865</td>\n",
       "      <td>-0.209411</td>\n",
       "      <td>0.300929</td>\n",
       "      <td>0.217460</td>\n",
       "      <td>-1.167808</td>\n",
       "      <td>-0.012946</td>\n",
       "      <td>1.154862</td>\n",
       "      <td>...</td>\n",
       "      <td>1.017398</td>\n",
       "      <td>12.942794</td>\n",
       "      <td>12.983137</td>\n",
       "      <td>-23.432654</td>\n",
       "      <td>30.300758</td>\n",
       "      <td>53.733412</td>\n",
       "      <td>0.677985</td>\n",
       "      <td>10.235956</td>\n",
       "      <td>10.277114</td>\n",
       "      <td>0.880</td>\n",
       "    </tr>\n",
       "    <tr>\n",
       "      <th>3</th>\n",
       "      <td>1</td>\n",
       "      <td>-0.711522</td>\n",
       "      <td>0.555218</td>\n",
       "      <td>1.266740</td>\n",
       "      <td>-0.207122</td>\n",
       "      <td>0.319552</td>\n",
       "      <td>0.244856</td>\n",
       "      <td>-1.471754</td>\n",
       "      <td>-0.024032</td>\n",
       "      <td>1.447722</td>\n",
       "      <td>...</td>\n",
       "      <td>-1.453922</td>\n",
       "      <td>12.462453</td>\n",
       "      <td>12.454471</td>\n",
       "      <td>-29.483934</td>\n",
       "      <td>22.118163</td>\n",
       "      <td>51.602097</td>\n",
       "      <td>-1.472199</td>\n",
       "      <td>10.735650</td>\n",
       "      <td>10.700486</td>\n",
       "      <td>0.880</td>\n",
       "    </tr>\n",
       "    <tr>\n",
       "      <th>4</th>\n",
       "      <td>1</td>\n",
       "      <td>-0.676285</td>\n",
       "      <td>0.676534</td>\n",
       "      <td>1.352819</td>\n",
       "      <td>-0.070346</td>\n",
       "      <td>0.298983</td>\n",
       "      <td>0.292520</td>\n",
       "      <td>-1.130257</td>\n",
       "      <td>0.102537</td>\n",
       "      <td>1.232795</td>\n",
       "      <td>...</td>\n",
       "      <td>3.066248</td>\n",
       "      <td>16.538112</td>\n",
       "      <td>16.359362</td>\n",
       "      <td>-28.066213</td>\n",
       "      <td>35.876247</td>\n",
       "      <td>63.942460</td>\n",
       "      <td>2.549368</td>\n",
       "      <td>12.604363</td>\n",
       "      <td>12.425872</td>\n",
       "      <td>0.825</td>\n",
       "    </tr>\n",
       "    <tr>\n",
       "      <th>...</th>\n",
       "      <td>...</td>\n",
       "      <td>...</td>\n",
       "      <td>...</td>\n",
       "      <td>...</td>\n",
       "      <td>...</td>\n",
       "      <td>...</td>\n",
       "      <td>...</td>\n",
       "      <td>...</td>\n",
       "      <td>...</td>\n",
       "      <td>...</td>\n",
       "      <td>...</td>\n",
       "      <td>...</td>\n",
       "      <td>...</td>\n",
       "      <td>...</td>\n",
       "      <td>...</td>\n",
       "      <td>...</td>\n",
       "      <td>...</td>\n",
       "      <td>...</td>\n",
       "      <td>...</td>\n",
       "      <td>...</td>\n",
       "      <td>...</td>\n",
       "    </tr>\n",
       "    <tr>\n",
       "      <th>2548</th>\n",
       "      <td>4</td>\n",
       "      <td>-0.953433</td>\n",
       "      <td>0.250183</td>\n",
       "      <td>1.203616</td>\n",
       "      <td>-0.267446</td>\n",
       "      <td>0.335269</td>\n",
       "      <td>0.203024</td>\n",
       "      <td>-0.800211</td>\n",
       "      <td>0.143310</td>\n",
       "      <td>0.943521</td>\n",
       "      <td>...</td>\n",
       "      <td>0.247229</td>\n",
       "      <td>9.659509</td>\n",
       "      <td>9.696496</td>\n",
       "      <td>-22.074841</td>\n",
       "      <td>23.390863</td>\n",
       "      <td>45.465704</td>\n",
       "      <td>0.201233</td>\n",
       "      <td>6.968500</td>\n",
       "      <td>6.994557</td>\n",
       "      <td>1.320</td>\n",
       "    </tr>\n",
       "    <tr>\n",
       "      <th>2549</th>\n",
       "      <td>4</td>\n",
       "      <td>-0.633834</td>\n",
       "      <td>1.097093</td>\n",
       "      <td>1.730927</td>\n",
       "      <td>-0.075134</td>\n",
       "      <td>0.373065</td>\n",
       "      <td>0.367049</td>\n",
       "      <td>-1.246303</td>\n",
       "      <td>0.299869</td>\n",
       "      <td>1.546173</td>\n",
       "      <td>...</td>\n",
       "      <td>-0.056797</td>\n",
       "      <td>14.140192</td>\n",
       "      <td>14.203063</td>\n",
       "      <td>-52.673864</td>\n",
       "      <td>46.050547</td>\n",
       "      <td>98.724410</td>\n",
       "      <td>0.001120</td>\n",
       "      <td>14.968089</td>\n",
       "      <td>15.034762</td>\n",
       "      <td>1.232</td>\n",
       "    </tr>\n",
       "    <tr>\n",
       "      <th>2550</th>\n",
       "      <td>4</td>\n",
       "      <td>-1.385272</td>\n",
       "      <td>0.583667</td>\n",
       "      <td>1.968939</td>\n",
       "      <td>-0.247752</td>\n",
       "      <td>0.407022</td>\n",
       "      <td>0.324163</td>\n",
       "      <td>-1.960975</td>\n",
       "      <td>0.035151</td>\n",
       "      <td>1.996125</td>\n",
       "      <td>...</td>\n",
       "      <td>0.071263</td>\n",
       "      <td>15.528399</td>\n",
       "      <td>15.587391</td>\n",
       "      <td>-45.077351</td>\n",
       "      <td>54.306146</td>\n",
       "      <td>99.383498</td>\n",
       "      <td>0.082529</td>\n",
       "      <td>12.754323</td>\n",
       "      <td>12.802643</td>\n",
       "      <td>1.441</td>\n",
       "    </tr>\n",
       "    <tr>\n",
       "      <th>2551</th>\n",
       "      <td>4</td>\n",
       "      <td>-0.676367</td>\n",
       "      <td>0.664444</td>\n",
       "      <td>1.340811</td>\n",
       "      <td>-0.164913</td>\n",
       "      <td>0.298208</td>\n",
       "      <td>0.249576</td>\n",
       "      <td>-0.899431</td>\n",
       "      <td>0.297562</td>\n",
       "      <td>1.196992</td>\n",
       "      <td>...</td>\n",
       "      <td>-0.096257</td>\n",
       "      <td>9.774722</td>\n",
       "      <td>9.818178</td>\n",
       "      <td>-32.409254</td>\n",
       "      <td>25.582425</td>\n",
       "      <td>57.991680</td>\n",
       "      <td>-0.220048</td>\n",
       "      <td>8.565381</td>\n",
       "      <td>8.601038</td>\n",
       "      <td>1.221</td>\n",
       "    </tr>\n",
       "    <tr>\n",
       "      <th>2552</th>\n",
       "      <td>4</td>\n",
       "      <td>-0.763620</td>\n",
       "      <td>0.523834</td>\n",
       "      <td>1.287454</td>\n",
       "      <td>-0.207417</td>\n",
       "      <td>0.350966</td>\n",
       "      <td>0.284425</td>\n",
       "      <td>-1.229060</td>\n",
       "      <td>0.328558</td>\n",
       "      <td>1.557618</td>\n",
       "      <td>...</td>\n",
       "      <td>0.035625</td>\n",
       "      <td>12.889697</td>\n",
       "      <td>12.949184</td>\n",
       "      <td>-47.800478</td>\n",
       "      <td>43.509234</td>\n",
       "      <td>91.309711</td>\n",
       "      <td>0.031827</td>\n",
       "      <td>13.728517</td>\n",
       "      <td>13.791891</td>\n",
       "      <td>1.188</td>\n",
       "    </tr>\n",
       "  </tbody>\n",
       "</table>\n",
       "<p>2553 rows × 44 columns</p>\n",
       "</div>"
      ],
      "text/plain": [
       "      label     X_min     X_max   X_range    X_mean     X_rms     X_std  \\\n",
       "0         1 -0.589872  0.347272  0.937143 -0.194542  0.268091  0.185794   \n",
       "1         1 -0.678279  0.259369  0.937648 -0.200295  0.283716  0.202370   \n",
       "2         1 -0.703621  0.355244  1.058865 -0.209411  0.300929  0.217460   \n",
       "3         1 -0.711522  0.555218  1.266740 -0.207122  0.319552  0.244856   \n",
       "4         1 -0.676285  0.676534  1.352819 -0.070346  0.298983  0.292520   \n",
       "...     ...       ...       ...       ...       ...       ...       ...   \n",
       "2548      4 -0.953433  0.250183  1.203616 -0.267446  0.335269  0.203024   \n",
       "2549      4 -0.633834  1.097093  1.730927 -0.075134  0.373065  0.367049   \n",
       "2550      4 -1.385272  0.583667  1.968939 -0.247752  0.407022  0.324163   \n",
       "2551      4 -0.676367  0.664444  1.340811 -0.164913  0.298208  0.249576   \n",
       "2552      4 -0.763620  0.523834  1.287454 -0.207417  0.350966  0.284425   \n",
       "\n",
       "         Y_min     Y_max   Y_range  ...  Z_jerk_mean  Z_jerk_rms  Z_jerk_std  \\\n",
       "0    -1.267788  0.004404  1.272193  ...    -0.275866   16.042870   16.156316   \n",
       "1    -2.018337  0.155951  2.174288  ...    -0.017593   19.087411   19.223258   \n",
       "2    -1.167808 -0.012946  1.154862  ...     1.017398   12.942794   12.983137   \n",
       "3    -1.471754 -0.024032  1.447722  ...    -1.453922   12.462453   12.454471   \n",
       "4    -1.130257  0.102537  1.232795  ...     3.066248   16.538112   16.359362   \n",
       "...        ...       ...       ...  ...          ...         ...         ...   \n",
       "2548 -0.800211  0.143310  0.943521  ...     0.247229    9.659509    9.696496   \n",
       "2549 -1.246303  0.299869  1.546173  ...    -0.056797   14.140192   14.203063   \n",
       "2550 -1.960975  0.035151  1.996125  ...     0.071263   15.528399   15.587391   \n",
       "2551 -0.899431  0.297562  1.196992  ...    -0.096257    9.774722    9.818178   \n",
       "2552 -1.229060  0.328558  1.557618  ...     0.035625   12.889697   12.949184   \n",
       "\n",
       "      total_jerk_min  total_jerk_max  total_jerk_range  total_jerk_mean  \\\n",
       "0         -24.266511       29.783611         54.050122        -0.272102   \n",
       "1         -47.033978       40.079267         87.113246         0.439634   \n",
       "2         -23.432654       30.300758         53.733412         0.677985   \n",
       "3         -29.483934       22.118163         51.602097        -1.472199   \n",
       "4         -28.066213       35.876247         63.942460         2.549368   \n",
       "...              ...             ...               ...              ...   \n",
       "2548      -22.074841       23.390863         45.465704         0.201233   \n",
       "2549      -52.673864       46.050547         98.724410         0.001120   \n",
       "2550      -45.077351       54.306146         99.383498         0.082529   \n",
       "2551      -32.409254       25.582425         57.991680        -0.220048   \n",
       "2552      -47.800478       43.509234         91.309711         0.031827   \n",
       "\n",
       "      total_jerk_rms  total_jerk_std  timestamp_range  \n",
       "0          11.621308       11.702008            0.759  \n",
       "1          14.617773       14.715156            0.770  \n",
       "2          10.235956       10.277114            0.880  \n",
       "3          10.735650       10.700486            0.880  \n",
       "4          12.604363       12.425872            0.825  \n",
       "...              ...             ...              ...  \n",
       "2548        6.968500        6.994557            1.320  \n",
       "2549       14.968089       15.034762            1.232  \n",
       "2550       12.754323       12.802643            1.441  \n",
       "2551        8.565381        8.601038            1.221  \n",
       "2552       13.728517       13.791891            1.188  \n",
       "\n",
       "[2553 rows x 44 columns]"
      ]
     },
     "execution_count": 4,
     "metadata": {},
     "output_type": "execute_result"
    }
   ],
   "source": [
    "data"
   ]
  },
  {
   "cell_type": "code",
   "execution_count": 5,
   "id": "f805bb79",
   "metadata": {},
   "outputs": [],
   "source": [
    "x=data.drop(['label'], axis=1)\n",
    "y=data['label']"
   ]
  },
  {
   "cell_type": "code",
   "execution_count": 6,
   "id": "463a7371",
   "metadata": {},
   "outputs": [
    {
     "data": {
      "text/plain": [
       "((2170, 43), (383, 43))"
      ]
     },
     "execution_count": 6,
     "metadata": {},
     "output_type": "execute_result"
    }
   ],
   "source": [
    "x_train, x_test, y_train, y_test= train_test_split(x,y,test_size=0.15, random_state=42)\n",
    "x_train.shape, x_test.shape"
   ]
  },
  {
   "cell_type": "code",
   "execution_count": 7,
   "id": "f32cbf6e",
   "metadata": {},
   "outputs": [],
   "source": [
    "scaled=StandardScaler()\n",
    "x_train_s=scaled.fit_transform(x_train)\n",
    "x_test_s=scaled.fit_transform(x_test)"
   ]
  },
  {
   "cell_type": "code",
   "execution_count": 8,
   "id": "5745d97a",
   "metadata": {},
   "outputs": [],
   "source": [
    "from sklearn.ensemble import RandomForestClassifier,GradientBoostingClassifier, HistGradientBoostingClassifier\n",
    "from lightgbm import LGBMClassifier\n",
    "from xgboost import XGBClassifier\n",
    "from sklearn.metrics import accuracy_score,f1_score"
   ]
  },
  {
   "cell_type": "markdown",
   "id": "10a7f80b",
   "metadata": {},
   "source": [
    "# Random Forest Classifier"
   ]
  },
  {
   "cell_type": "code",
   "execution_count": 9,
   "id": "50e491d1",
   "metadata": {},
   "outputs": [
    {
     "data": {
      "text/plain": [
       "0.9921658986175115"
      ]
     },
     "execution_count": 9,
     "metadata": {},
     "output_type": "execute_result"
    }
   ],
   "source": [
    "model=RandomForestClassifier().fit(x_train_s, y_train)\n",
    "y_train_pred=model.predict(x_train_s)\n",
    "accuracy_score(y_train_pred, y_train)"
   ]
  },
  {
   "cell_type": "code",
   "execution_count": 10,
   "id": "871851a2",
   "metadata": {},
   "outputs": [
    {
     "data": {
      "image/png": "[encoded data removed]",
      "text/plain": [
       "<Figure size 1000x800 with 2 Axes>"
      ]
     },
     "metadata": {},
     "output_type": "display_data"
    },
    {
     "name": "stdout",
     "output_type": "stream",
     "text": [
      "Classification Report:\n",
      "              precision    recall  f1-score   support\n",
      "\n",
      "           0       0.83      0.73      0.78        55\n",
      "           1       0.71      0.76      0.74        68\n",
      "           2       0.75      0.78      0.77        88\n",
      "           3       0.99      0.97      0.98        99\n",
      "           4       0.74      0.74      0.74        73\n",
      "\n",
      "    accuracy                           0.81       383\n",
      "   macro avg       0.81      0.80      0.80       383\n",
      "weighted avg       0.82      0.81      0.81       383\n",
      "\n"
     ]
    }
   ],
   "source": [
    "y_pred = model.predict(x_test_s)\n",
    "conf_matrix = confusion_matrix(y_test, y_pred)\n",
    "\n",
    "# Plot the confusion matrix\n",
    "plt.figure(figsize=(10, 8))\n",
    "sns.heatmap(conf_matrix, annot=True, fmt='d', cmap='Blues')\n",
    "plt.xlabel('Predicted Label')\n",
    "plt.ylabel('True Label')\n",
    "plt.title('Confusion Matrix')\n",
    "plt.show()\n",
    "\n",
    "# Calculate Precision, Recall, and F1 Score\n",
    "from sklearn.metrics import classification_report\n",
    "\n",
    "# Generate classification report\n",
    "class_report = classification_report(y_test, y_pred, target_names=[str(i) for i in range(len(np.unique(y_test)))])\n",
    "print(\"Classification Report:\")\n",
    "print(class_report)"
   ]
  },
  {
   "cell_type": "markdown",
   "id": "b8d8b982",
   "metadata": {},
   "source": [
    "# Gradient Boosting"
   ]
  },
  {
   "cell_type": "code",
   "execution_count": 11,
   "id": "7e8c4719",
   "metadata": {},
   "outputs": [
    {
     "data": {
      "text/plain": [
       "0.9806451612903225"
      ]
     },
     "execution_count": 11,
     "metadata": {},
     "output_type": "execute_result"
    }
   ],
   "source": [
    "model=GradientBoostingClassifier().fit(x_train_s, y_train)\n",
    "y_train_pred=model.predict(x_train_s)\n",
    "accuracy_score(y_train_pred, y_train)"
   ]
  },
  {
   "cell_type": "code",
   "execution_count": 12,
   "id": "be870d8b",
   "metadata": {},
   "outputs": [
    {
     "data": {
      "image/png": "[encoded data removed]",
      "text/plain": [
       "<Figure size 1000x800 with 2 Axes>"
      ]
     },
     "metadata": {},
     "output_type": "display_data"
    },
    {
     "name": "stdout",
     "output_type": "stream",
     "text": [
      "Classification Report:\n",
      "              precision    recall  f1-score   support\n",
      "\n",
      "           0       0.68      0.73      0.70        55\n",
      "           1       0.67      0.57      0.62        68\n",
      "           2       0.72      0.74      0.73        88\n",
      "           3       0.99      0.94      0.96        99\n",
      "           4       0.67      0.75      0.71        73\n",
      "\n",
      "    accuracy                           0.76       383\n",
      "   macro avg       0.75      0.75      0.74       383\n",
      "weighted avg       0.77      0.76      0.76       383\n",
      "\n"
     ]
    }
   ],
   "source": [
    "y_pred = model.predict(x_test_s)\n",
    "conf_matrix = confusion_matrix(y_test, y_pred)\n",
    "\n",
    "# Plot the confusion matrix\n",
    "plt.figure(figsize=(10, 8))\n",
    "sns.heatmap(conf_matrix, annot=True, fmt='d', cmap='Blues')\n",
    "plt.xlabel('Predicted Label')\n",
    "plt.ylabel('True Label')\n",
    "plt.title('Confusion Matrix')\n",
    "plt.show()\n",
    "\n",
    "# Calculate Precision, Recall, and F1 Score\n",
    "from sklearn.metrics import classification_report\n",
    "\n",
    "# Generate classification report\n",
    "class_report = classification_report(y_test, y_pred, target_names=[str(i) for i in range(len(np.unique(y_test)))])\n",
    "print(\"Classification Report:\")\n",
    "print(class_report)"
   ]
  },
  {
   "cell_type": "markdown",
   "id": "ea1e5944",
   "metadata": {},
   "source": [
    "# LGBM"
   ]
  },
  {
   "cell_type": "code",
   "execution_count": 13,
   "id": "59ebc6ff",
   "metadata": {},
   "outputs": [
    {
     "name": "stdout",
     "output_type": "stream",
     "text": [
      "[LightGBM] [Info] Auto-choosing col-wise multi-threading, the overhead of testing was 0.000741 seconds.\n",
      "You can set `force_col_wise=true` to remove the overhead.\n",
      "[LightGBM] [Info] Total Bins 10837\n",
      "[LightGBM] [Info] Number of data points in the train set: 2170, number of used features: 43\n",
      "[LightGBM] [Info] Start training from score -1.739683\n",
      "[LightGBM] [Info] Start training from score -1.611745\n",
      "[LightGBM] [Info] Start training from score -1.461892\n",
      "[LightGBM] [Info] Start training from score -1.521275\n",
      "[LightGBM] [Info] Start training from score -1.744946\n",
      "[LightGBM] [Warning] No further splits with positive gain, best gain: -inf\n"
     ]
    },
    {
     "data": {
      "text/plain": [
       "0.9921658986175115"
      ]
     },
     "execution_count": 13,
     "metadata": {},
     "output_type": "execute_result"
    }
   ],
   "source": [
    "model=LGBMClassifier().fit(x_train_s, y_train)\n",
    "y_train_pred=model.predict(x_train_s)\n",
    "accuracy_score(y_train_pred, y_train)"
   ]
  },
  {
   "cell_type": "code",
   "execution_count": 14,
   "id": "a095c136",
   "metadata": {},
   "outputs": [
    {
     "data": {
      "image/png": "[encoded data removed]",
      "text/plain": [
       "<Figure size 1000x800 with 2 Axes>"
      ]
     },
     "metadata": {},
     "output_type": "display_data"
    },
    {
     "name": "stdout",
     "output_type": "stream",
     "text": [
      "Classification Report:\n",
      "              precision    recall  f1-score   support\n",
      "\n",
      "           0       0.71      0.71      0.71        55\n",
      "           1       0.76      0.69      0.72        68\n",
      "           2       0.69      0.83      0.75        88\n",
      "           3       0.98      0.92      0.95        99\n",
      "           4       0.75      0.68      0.71        73\n",
      "\n",
      "    accuracy                           0.78       383\n",
      "   macro avg       0.78      0.77      0.77       383\n",
      "weighted avg       0.79      0.78      0.78       383\n",
      "\n"
     ]
    }
   ],
   "source": [
    "y_pred = model.predict(x_test_s)\n",
    "conf_matrix = confusion_matrix(y_test, y_pred)\n",
    "\n",
    "# Plot the confusion matrix\n",
    "plt.figure(figsize=(10, 8))\n",
    "sns.heatmap(conf_matrix, annot=True, fmt='d', cmap='Blues')\n",
    "plt.xlabel('Predicted Label')\n",
    "plt.ylabel('True Label')\n",
    "plt.title('Confusion Matrix')\n",
    "plt.show()\n",
    "\n",
    "# Calculate Precision, Recall, and F1 Score\n",
    "from sklearn.metrics import classification_report\n",
    "\n",
    "# Generate classification report\n",
    "class_report = classification_report(y_test, y_pred, target_names=[str(i) for i in range(len(np.unique(y_test)))])\n",
    "print(\"Classification Report:\")\n",
    "print(class_report)"
   ]
  },
  {
   "cell_type": "markdown",
   "id": "d50044c0",
   "metadata": {},
   "source": [
    "# XGBoost"
   ]
  },
  {
   "cell_type": "code",
   "execution_count": 15,
   "id": "6be6a4ed",
   "metadata": {},
   "outputs": [
    {
     "data": {
      "text/plain": [
       "0.9921658986175115"
      ]
     },
     "execution_count": 15,
     "metadata": {},
     "output_type": "execute_result"
    }
   ],
   "source": [
    "model=XGBClassifier().fit(x_train_s, y_train)\n",
    "y_train_pred=model.predict(x_train_s)\n",
    "accuracy_score(y_train_pred, y_train)"
   ]
  },
  {
   "cell_type": "code",
   "execution_count": 16,
   "id": "17a45f8e",
   "metadata": {},
   "outputs": [
    {
     "data": {
      "image/png": "[encoded data removed]",
      "text/plain": [
       "<Figure size 1000x800 with 2 Axes>"
      ]
     },
     "metadata": {},
     "output_type": "display_data"
    },
    {
     "name": "stdout",
     "output_type": "stream",
     "text": [
      "Classification Report:\n",
      "              precision    recall  f1-score   support\n",
      "\n",
      "           0       0.75      0.75      0.75        55\n",
      "           1       0.78      0.68      0.72        68\n",
      "           2       0.76      0.84      0.80        88\n",
      "           3       0.98      0.97      0.97        99\n",
      "           4       0.75      0.75      0.75        73\n",
      "\n",
      "    accuracy                           0.81       383\n",
      "   macro avg       0.80      0.80      0.80       383\n",
      "weighted avg       0.82      0.81      0.81       383\n",
      "\n"
     ]
    }
   ],
   "source": [
    "y_pred = model.predict(x_test_s)\n",
    "conf_matrix = confusion_matrix(y_test, y_pred)\n",
    "\n",
    "# Plot the confusion matrix\n",
    "plt.figure(figsize=(10, 8))\n",
    "sns.heatmap(conf_matrix, annot=True, fmt='d', cmap='Blues')\n",
    "plt.xlabel('Predicted Label')\n",
    "plt.ylabel('True Label')\n",
    "plt.title('Confusion Matrix')\n",
    "plt.show()\n",
    "\n",
    "# Calculate Precision, Recall, and F1 Score\n",
    "from sklearn.metrics import classification_report\n",
    "\n",
    "# Generate classification report\n",
    "class_report = classification_report(y_test, y_pred, target_names=[str(i) for i in range(len(np.unique(y_test)))])\n",
    "print(\"Classification Report:\")\n",
    "print(class_report)"
   ]
  },
  {
   "cell_type": "markdown",
   "id": "866ed6b1",
   "metadata": {},
   "source": [
    "# HistGradient Boosting"
   ]
  },
  {
   "cell_type": "code",
   "execution_count": 17,
   "id": "041e0ff6",
   "metadata": {},
   "outputs": [
    {
     "data": {
      "text/plain": [
       "0.9921658986175115"
      ]
     },
     "execution_count": 17,
     "metadata": {},
     "output_type": "execute_result"
    }
   ],
   "source": [
    "model=HistGradientBoostingClassifier().fit(x_train_s, y_train)\n",
    "y_train_pred=model.predict(x_train_s)\n",
    "accuracy_score(y_train_pred, y_train)"
   ]
  },
  {
   "cell_type": "code",
   "execution_count": 18,
   "id": "5c2277f0",
   "metadata": {},
   "outputs": [
    {
     "data": {
      "image/png": "[encoded data removed]",
      "text/plain": [
       "<Figure size 1000x800 with 2 Axes>"
      ]
     },
     "metadata": {},
     "output_type": "display_data"
    },
    {
     "name": "stdout",
     "output_type": "stream",
     "text": [
      "Classification Report:\n",
      "              precision    recall  f1-score   support\n",
      "\n",
      "           0       0.74      0.78      0.76        55\n",
      "           1       0.75      0.66      0.70        68\n",
      "           2       0.74      0.84      0.79        88\n",
      "           3       0.99      0.97      0.98        99\n",
      "           4       0.75      0.70      0.72        73\n",
      "\n",
      "    accuracy                           0.81       383\n",
      "   macro avg       0.79      0.79      0.79       383\n",
      "weighted avg       0.81      0.81      0.81       383\n",
      "\n"
     ]
    }
   ],
   "source": [
    "y_pred = model.predict(x_test_s)\n",
    "conf_matrix = confusion_matrix(y_test, y_pred)\n",
    "\n",
    "# Plot the confusion matrix\n",
    "plt.figure(figsize=(10, 8))\n",
    "sns.heatmap(conf_matrix, annot=True, fmt='d', cmap='Blues')\n",
    "plt.xlabel('Predicted Label')\n",
    "plt.ylabel('True Label')\n",
    "plt.title('Confusion Matrix')\n",
    "plt.show()\n",
    "\n",
    "# Calculate Precision, Recall, and F1 Score\n",
    "from sklearn.metrics import classification_report\n",
    "\n",
    "# Generate classification report\n",
    "class_report = classification_report(y_test, y_pred, target_names=[str(i) for i in range(len(np.unique(y_test)))])\n",
    "print(\"Classification Report:\")\n",
    "print(class_report)"
   ]
  },
  {
   "cell_type": "code",
   "execution_count": null,
   "id": "ee43a4ea",
   "metadata": {},
   "outputs": [],
   "source": []
  }
 ],
 "metadata": {
  "kernelspec": {
   "display_name": "Python 3 (ipykernel)",
   "language": "python",
   "name": "python3"
  },
  "language_info": {
   "codemirror_mode": {
    "name": "ipython",
    "version": 3
   },
   "file_extension": ".py",
   "mimetype": "text/x-python",
   "name": "python",
   "nbconvert_exporter": "python",
   "pygments_lexer": "ipython3",
   "version": "3.11.6"
  }
 },
 "nbformat": 4,
 "nbformat_minor": 5
}
