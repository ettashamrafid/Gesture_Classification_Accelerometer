{
 "cells": [
  {
   "cell_type": "code",
   "execution_count": 1,
   "id": "8254dbf9",
   "metadata": {},
   "outputs": [],
   "source": [
    "import numpy as np\n",
    "import pandas as pd\n",
    "import matplotlib.pyplot as plt"
   ]
  },
  {
   "cell_type": "code",
   "execution_count": 2,
   "id": "4d12a8ff",
   "metadata": {},
   "outputs": [],
   "source": [
    "from sklearn.preprocessing import StandardScaler, PolynomialFeatures\n",
    "from sklearn.linear_model import LinearRegression\n",
    "from sklearn.model_selection import train_test_split\n",
    "from sklearn.metrics import accuracy_score, confusion_matrix, precision_score, recall_score, ConfusionMatrixDisplay"
   ]
  },
  {
   "cell_type": "code",
   "execution_count": 3,
   "id": "cbe789f3",
   "metadata": {},
   "outputs": [],
   "source": [
    "data=pd.read_csv('feature.csv')"
   ]
  },
  {
   "cell_type": "code",
   "execution_count": 4,
   "id": "a5ce6a9c",
   "metadata": {},
   "outputs": [],
   "source": [
    "data.drop(['x_jerk_range', 'y_jerk_range', 'z_jerk_range', 'total_jerk_range'], axis=1, inplace=True)\n",
    "data['folder_label']=data['folder_label'].astype(int)"
   ]
  },
  {
   "cell_type": "code",
   "execution_count": 5,
   "id": "bb027087",
   "metadata": {},
   "outputs": [],
   "source": [
    "data['folder_label']-=1"
   ]
  },
  {
   "cell_type": "code",
   "execution_count": 6,
   "id": "b4fcf1e6",
   "metadata": {},
   "outputs": [
    {
     "data": {
      "text/html": [
       "<div>\n",
       "<style scoped>\n",
       "    .dataframe tbody tr th:only-of-type {\n",
       "        vertical-align: middle;\n",
       "    }\n",
       "\n",
       "    .dataframe tbody tr th {\n",
       "        vertical-align: top;\n",
       "    }\n",
       "\n",
       "    .dataframe thead th {\n",
       "        text-align: right;\n",
       "    }\n",
       "</style>\n",
       "<table border=\"1\" class=\"dataframe\">\n",
       "  <thead>\n",
       "    <tr style=\"text-align: right;\">\n",
       "      <th></th>\n",
       "      <th>time</th>\n",
       "      <th>folder_label</th>\n",
       "      <th>x_data_min</th>\n",
       "      <th>x_data_max</th>\n",
       "      <th>x_data_range</th>\n",
       "      <th>x_data_avg</th>\n",
       "      <th>x_data_std</th>\n",
       "      <th>x_data_var</th>\n",
       "      <th>x_data_rms</th>\n",
       "      <th>y_data_min</th>\n",
       "      <th>...</th>\n",
       "      <th>total_avg</th>\n",
       "      <th>total_std</th>\n",
       "      <th>total_var</th>\n",
       "      <th>total_rms</th>\n",
       "      <th>total_jerk_min</th>\n",
       "      <th>total_jerk_max</th>\n",
       "      <th>total_jerk_avg</th>\n",
       "      <th>total_jerk_std</th>\n",
       "      <th>total_jerk_var</th>\n",
       "      <th>total_jerk_rms</th>\n",
       "    </tr>\n",
       "  </thead>\n",
       "  <tbody>\n",
       "    <tr>\n",
       "      <th>0</th>\n",
       "      <td>4.967726</td>\n",
       "      <td>2</td>\n",
       "      <td>-0.594113</td>\n",
       "      <td>0.740917</td>\n",
       "      <td>1.335030</td>\n",
       "      <td>0.073815</td>\n",
       "      <td>0.173074</td>\n",
       "      <td>0.029955</td>\n",
       "      <td>0.188158</td>\n",
       "      <td>-0.488705</td>\n",
       "      <td>...</td>\n",
       "      <td>1.005769</td>\n",
       "      <td>0.242476</td>\n",
       "      <td>0.058795</td>\n",
       "      <td>1.034585</td>\n",
       "      <td>-80.027925</td>\n",
       "      <td>66.822884</td>\n",
       "      <td>-0.200353</td>\n",
       "      <td>8.186344</td>\n",
       "      <td>67.016227</td>\n",
       "      <td>8.188795</td>\n",
       "    </tr>\n",
       "    <tr>\n",
       "      <th>1</th>\n",
       "      <td>4.961296</td>\n",
       "      <td>2</td>\n",
       "      <td>-0.716802</td>\n",
       "      <td>0.768120</td>\n",
       "      <td>1.484922</td>\n",
       "      <td>0.010316</td>\n",
       "      <td>0.179077</td>\n",
       "      <td>0.032069</td>\n",
       "      <td>0.179374</td>\n",
       "      <td>-0.684318</td>\n",
       "      <td>...</td>\n",
       "      <td>1.008841</td>\n",
       "      <td>0.264814</td>\n",
       "      <td>0.070127</td>\n",
       "      <td>1.043018</td>\n",
       "      <td>-138.544181</td>\n",
       "      <td>286.250237</td>\n",
       "      <td>0.509831</td>\n",
       "      <td>18.071746</td>\n",
       "      <td>326.588019</td>\n",
       "      <td>18.078937</td>\n",
       "    </tr>\n",
       "    <tr>\n",
       "      <th>2</th>\n",
       "      <td>4.957216</td>\n",
       "      <td>2</td>\n",
       "      <td>-0.798691</td>\n",
       "      <td>0.740975</td>\n",
       "      <td>1.539666</td>\n",
       "      <td>-0.032505</td>\n",
       "      <td>0.198400</td>\n",
       "      <td>0.039363</td>\n",
       "      <td>0.201045</td>\n",
       "      <td>-0.681283</td>\n",
       "      <td>...</td>\n",
       "      <td>1.014284</td>\n",
       "      <td>0.234759</td>\n",
       "      <td>0.055112</td>\n",
       "      <td>1.041098</td>\n",
       "      <td>-159.859528</td>\n",
       "      <td>192.511826</td>\n",
       "      <td>0.110863</td>\n",
       "      <td>13.157349</td>\n",
       "      <td>173.115838</td>\n",
       "      <td>13.157816</td>\n",
       "    </tr>\n",
       "    <tr>\n",
       "      <th>3</th>\n",
       "      <td>4.961768</td>\n",
       "      <td>2</td>\n",
       "      <td>-0.694075</td>\n",
       "      <td>0.937472</td>\n",
       "      <td>1.631548</td>\n",
       "      <td>0.003114</td>\n",
       "      <td>0.236152</td>\n",
       "      <td>0.055768</td>\n",
       "      <td>0.236173</td>\n",
       "      <td>-0.921178</td>\n",
       "      <td>...</td>\n",
       "      <td>1.025165</td>\n",
       "      <td>0.319942</td>\n",
       "      <td>0.102363</td>\n",
       "      <td>1.073930</td>\n",
       "      <td>-239.540551</td>\n",
       "      <td>149.506588</td>\n",
       "      <td>-0.200193</td>\n",
       "      <td>22.435540</td>\n",
       "      <td>503.353445</td>\n",
       "      <td>22.436433</td>\n",
       "    </tr>\n",
       "    <tr>\n",
       "      <th>4</th>\n",
       "      <td>4.965329</td>\n",
       "      <td>2</td>\n",
       "      <td>-0.563631</td>\n",
       "      <td>0.756368</td>\n",
       "      <td>1.320000</td>\n",
       "      <td>0.079084</td>\n",
       "      <td>0.193159</td>\n",
       "      <td>0.037310</td>\n",
       "      <td>0.208721</td>\n",
       "      <td>-0.598885</td>\n",
       "      <td>...</td>\n",
       "      <td>1.010627</td>\n",
       "      <td>0.219598</td>\n",
       "      <td>0.048223</td>\n",
       "      <td>1.034210</td>\n",
       "      <td>-109.110179</td>\n",
       "      <td>76.274626</td>\n",
       "      <td>-0.324603</td>\n",
       "      <td>10.971519</td>\n",
       "      <td>120.374224</td>\n",
       "      <td>10.976320</td>\n",
       "    </tr>\n",
       "    <tr>\n",
       "      <th>...</th>\n",
       "      <td>...</td>\n",
       "      <td>...</td>\n",
       "      <td>...</td>\n",
       "      <td>...</td>\n",
       "      <td>...</td>\n",
       "      <td>...</td>\n",
       "      <td>...</td>\n",
       "      <td>...</td>\n",
       "      <td>...</td>\n",
       "      <td>...</td>\n",
       "      <td>...</td>\n",
       "      <td>...</td>\n",
       "      <td>...</td>\n",
       "      <td>...</td>\n",
       "      <td>...</td>\n",
       "      <td>...</td>\n",
       "      <td>...</td>\n",
       "      <td>...</td>\n",
       "      <td>...</td>\n",
       "      <td>...</td>\n",
       "      <td>...</td>\n",
       "    </tr>\n",
       "    <tr>\n",
       "      <th>192</th>\n",
       "      <td>3.969930</td>\n",
       "      <td>1</td>\n",
       "      <td>-4.112396</td>\n",
       "      <td>2.451951</td>\n",
       "      <td>6.564346</td>\n",
       "      <td>-0.342144</td>\n",
       "      <td>0.927126</td>\n",
       "      <td>0.859563</td>\n",
       "      <td>0.988244</td>\n",
       "      <td>-1.195450</td>\n",
       "      <td>...</td>\n",
       "      <td>1.199231</td>\n",
       "      <td>0.621980</td>\n",
       "      <td>0.386859</td>\n",
       "      <td>1.350931</td>\n",
       "      <td>-624.798792</td>\n",
       "      <td>514.818332</td>\n",
       "      <td>-0.786785</td>\n",
       "      <td>48.105565</td>\n",
       "      <td>2314.145344</td>\n",
       "      <td>48.111998</td>\n",
       "    </tr>\n",
       "    <tr>\n",
       "      <th>193</th>\n",
       "      <td>3.970507</td>\n",
       "      <td>1</td>\n",
       "      <td>-3.941188</td>\n",
       "      <td>2.104934</td>\n",
       "      <td>6.046122</td>\n",
       "      <td>-0.248794</td>\n",
       "      <td>0.862823</td>\n",
       "      <td>0.744463</td>\n",
       "      <td>0.897976</td>\n",
       "      <td>-1.144062</td>\n",
       "      <td>...</td>\n",
       "      <td>1.157075</td>\n",
       "      <td>0.567768</td>\n",
       "      <td>0.322360</td>\n",
       "      <td>1.288868</td>\n",
       "      <td>-265.431335</td>\n",
       "      <td>464.052275</td>\n",
       "      <td>1.747448</td>\n",
       "      <td>33.374251</td>\n",
       "      <td>1113.840654</td>\n",
       "      <td>33.419968</td>\n",
       "    </tr>\n",
       "    <tr>\n",
       "      <th>194</th>\n",
       "      <td>3.969322</td>\n",
       "      <td>1</td>\n",
       "      <td>-3.553735</td>\n",
       "      <td>2.060154</td>\n",
       "      <td>5.613889</td>\n",
       "      <td>-0.113843</td>\n",
       "      <td>0.850742</td>\n",
       "      <td>0.723762</td>\n",
       "      <td>0.858325</td>\n",
       "      <td>-1.049480</td>\n",
       "      <td>...</td>\n",
       "      <td>1.151665</td>\n",
       "      <td>0.558239</td>\n",
       "      <td>0.311631</td>\n",
       "      <td>1.279830</td>\n",
       "      <td>-392.623841</td>\n",
       "      <td>487.419634</td>\n",
       "      <td>0.052389</td>\n",
       "      <td>44.353811</td>\n",
       "      <td>1967.260581</td>\n",
       "      <td>44.353842</td>\n",
       "    </tr>\n",
       "    <tr>\n",
       "      <th>195</th>\n",
       "      <td>3.969753</td>\n",
       "      <td>1</td>\n",
       "      <td>-3.801698</td>\n",
       "      <td>2.231351</td>\n",
       "      <td>6.033049</td>\n",
       "      <td>-0.331447</td>\n",
       "      <td>0.841533</td>\n",
       "      <td>0.708178</td>\n",
       "      <td>0.904453</td>\n",
       "      <td>-0.986833</td>\n",
       "      <td>...</td>\n",
       "      <td>1.155604</td>\n",
       "      <td>0.544671</td>\n",
       "      <td>0.296666</td>\n",
       "      <td>1.277531</td>\n",
       "      <td>-278.567231</td>\n",
       "      <td>190.801683</td>\n",
       "      <td>-0.920665</td>\n",
       "      <td>28.396745</td>\n",
       "      <td>806.375114</td>\n",
       "      <td>28.411666</td>\n",
       "    </tr>\n",
       "    <tr>\n",
       "      <th>196</th>\n",
       "      <td>3.970770</td>\n",
       "      <td>1</td>\n",
       "      <td>-4.173645</td>\n",
       "      <td>2.544562</td>\n",
       "      <td>6.718207</td>\n",
       "      <td>-0.384039</td>\n",
       "      <td>0.898378</td>\n",
       "      <td>0.807084</td>\n",
       "      <td>0.977021</td>\n",
       "      <td>-1.968138</td>\n",
       "      <td>...</td>\n",
       "      <td>1.203241</td>\n",
       "      <td>0.651619</td>\n",
       "      <td>0.424608</td>\n",
       "      <td>1.368356</td>\n",
       "      <td>-265.094346</td>\n",
       "      <td>318.210698</td>\n",
       "      <td>-0.183112</td>\n",
       "      <td>31.207127</td>\n",
       "      <td>973.884750</td>\n",
       "      <td>31.207664</td>\n",
       "    </tr>\n",
       "  </tbody>\n",
       "</table>\n",
       "<p>197 rows × 54 columns</p>\n",
       "</div>"
      ],
      "text/plain": [
       "         time  folder_label  x_data_min  x_data_max  x_data_range  x_data_avg  \\\n",
       "0    4.967726             2   -0.594113    0.740917      1.335030    0.073815   \n",
       "1    4.961296             2   -0.716802    0.768120      1.484922    0.010316   \n",
       "2    4.957216             2   -0.798691    0.740975      1.539666   -0.032505   \n",
       "3    4.961768             2   -0.694075    0.937472      1.631548    0.003114   \n",
       "4    4.965329             2   -0.563631    0.756368      1.320000    0.079084   \n",
       "..        ...           ...         ...         ...           ...         ...   \n",
       "192  3.969930             1   -4.112396    2.451951      6.564346   -0.342144   \n",
       "193  3.970507             1   -3.941188    2.104934      6.046122   -0.248794   \n",
       "194  3.969322             1   -3.553735    2.060154      5.613889   -0.113843   \n",
       "195  3.969753             1   -3.801698    2.231351      6.033049   -0.331447   \n",
       "196  3.970770             1   -4.173645    2.544562      6.718207   -0.384039   \n",
       "\n",
       "     x_data_std  x_data_var  x_data_rms  y_data_min  ...  total_avg  \\\n",
       "0      0.173074    0.029955    0.188158   -0.488705  ...   1.005769   \n",
       "1      0.179077    0.032069    0.179374   -0.684318  ...   1.008841   \n",
       "2      0.198400    0.039363    0.201045   -0.681283  ...   1.014284   \n",
       "3      0.236152    0.055768    0.236173   -0.921178  ...   1.025165   \n",
       "4      0.193159    0.037310    0.208721   -0.598885  ...   1.010627   \n",
       "..          ...         ...         ...         ...  ...        ...   \n",
       "192    0.927126    0.859563    0.988244   -1.195450  ...   1.199231   \n",
       "193    0.862823    0.744463    0.897976   -1.144062  ...   1.157075   \n",
       "194    0.850742    0.723762    0.858325   -1.049480  ...   1.151665   \n",
       "195    0.841533    0.708178    0.904453   -0.986833  ...   1.155604   \n",
       "196    0.898378    0.807084    0.977021   -1.968138  ...   1.203241   \n",
       "\n",
       "     total_std  total_var  total_rms  total_jerk_min  total_jerk_max  \\\n",
       "0     0.242476   0.058795   1.034585      -80.027925       66.822884   \n",
       "1     0.264814   0.070127   1.043018     -138.544181      286.250237   \n",
       "2     0.234759   0.055112   1.041098     -159.859528      192.511826   \n",
       "3     0.319942   0.102363   1.073930     -239.540551      149.506588   \n",
       "4     0.219598   0.048223   1.034210     -109.110179       76.274626   \n",
       "..         ...        ...        ...             ...             ...   \n",
       "192   0.621980   0.386859   1.350931     -624.798792      514.818332   \n",
       "193   0.567768   0.322360   1.288868     -265.431335      464.052275   \n",
       "194   0.558239   0.311631   1.279830     -392.623841      487.419634   \n",
       "195   0.544671   0.296666   1.277531     -278.567231      190.801683   \n",
       "196   0.651619   0.424608   1.368356     -265.094346      318.210698   \n",
       "\n",
       "     total_jerk_avg  total_jerk_std  total_jerk_var  total_jerk_rms  \n",
       "0         -0.200353        8.186344       67.016227        8.188795  \n",
       "1          0.509831       18.071746      326.588019       18.078937  \n",
       "2          0.110863       13.157349      173.115838       13.157816  \n",
       "3         -0.200193       22.435540      503.353445       22.436433  \n",
       "4         -0.324603       10.971519      120.374224       10.976320  \n",
       "..              ...             ...             ...             ...  \n",
       "192       -0.786785       48.105565     2314.145344       48.111998  \n",
       "193        1.747448       33.374251     1113.840654       33.419968  \n",
       "194        0.052389       44.353811     1967.260581       44.353842  \n",
       "195       -0.920665       28.396745      806.375114       28.411666  \n",
       "196       -0.183112       31.207127      973.884750       31.207664  \n",
       "\n",
       "[197 rows x 54 columns]"
      ]
     },
     "execution_count": 6,
     "metadata": {},
     "output_type": "execute_result"
    }
   ],
   "source": [
    "data"
   ]
  },
  {
   "cell_type": "code",
   "execution_count": 7,
   "id": "f805bb79",
   "metadata": {},
   "outputs": [],
   "source": [
    "x=data.drop(['folder_label'], axis=1)\n",
    "y=data['folder_label']"
   ]
  },
  {
   "cell_type": "code",
   "execution_count": 8,
   "id": "463a7371",
   "metadata": {},
   "outputs": [
    {
     "data": {
      "text/plain": [
       "((167, 53), (30, 53))"
      ]
     },
     "execution_count": 8,
     "metadata": {},
     "output_type": "execute_result"
    }
   ],
   "source": [
    "x_train, x_test, y_train, y_test= train_test_split(x,y,test_size=0.15, random_state=42)\n",
    "x_train.shape, x_test.shape"
   ]
  },
  {
   "cell_type": "code",
   "execution_count": 9,
   "id": "7268fce4",
   "metadata": {},
   "outputs": [],
   "source": [
    "scaled=StandardScaler()\n",
    "\n",
    "x_train_s=scaled.fit_transform(x_train)\n",
    "x_test_s=scaled.fit_transform(x_test)"
   ]
  },
  {
   "cell_type": "code",
   "execution_count": 10,
   "id": "4c169854",
   "metadata": {},
   "outputs": [
    {
     "name": "stderr",
     "output_type": "stream",
     "text": [
      "2024-04-22 04:11:42.712758: I tensorflow/core/util/port.cc:111] oneDNN custom operations are on. You may see slightly different numerical results due to floating-point round-off errors from different computation orders. To turn them off, set the environment variable `TF_ENABLE_ONEDNN_OPTS=0`.\n",
      "2024-04-22 04:11:42.714205: I tensorflow/tsl/cuda/cudart_stub.cc:28] Could not find cuda drivers on your machine, GPU will not be used.\n",
      "2024-04-22 04:11:42.739247: E tensorflow/compiler/xla/stream_executor/cuda/cuda_dnn.cc:9342] Unable to register cuDNN factory: Attempting to register factory for plugin cuDNN when one has already been registered\n",
      "2024-04-22 04:11:42.739273: E tensorflow/compiler/xla/stream_executor/cuda/cuda_fft.cc:609] Unable to register cuFFT factory: Attempting to register factory for plugin cuFFT when one has already been registered\n",
      "2024-04-22 04:11:42.739290: E tensorflow/compiler/xla/stream_executor/cuda/cuda_blas.cc:1518] Unable to register cuBLAS factory: Attempting to register factory for plugin cuBLAS when one has already been registered\n",
      "2024-04-22 04:11:42.744036: I tensorflow/tsl/cuda/cudart_stub.cc:28] Could not find cuda drivers on your machine, GPU will not be used.\n",
      "2024-04-22 04:11:42.744574: I tensorflow/core/platform/cpu_feature_guard.cc:182] This TensorFlow binary is optimized to use available CPU instructions in performance-critical operations.\n",
      "To enable the following instructions: AVX2 AVX512F AVX512_VNNI FMA, in other operations, rebuild TensorFlow with the appropriate compiler flags.\n",
      "2024-04-22 04:11:43.416336: W tensorflow/compiler/tf2tensorrt/utils/py_utils.cc:38] TF-TRT Warning: Could not find TensorRT\n"
     ]
    }
   ],
   "source": [
    "import tensorflow as tf\n",
    "from tensorflow.keras.layers import Dense,Dropout\n",
    "from tensorflow.keras.models import Sequential"
   ]
  },
  {
   "cell_type": "code",
   "execution_count": 11,
   "id": "3ee79856",
   "metadata": {},
   "outputs": [],
   "source": [
    "model = Sequential([\n",
    "    Dense(16, activation='relu'),  # Define input shape here\n",
    "    Dropout(0.5),    \n",
    "    Dense(8, activation='relu'),  # Define input shape here\n",
    "    Dropout(0.4),\n",
    "    Dense(4, activation='relu'),\n",
    "    Dropout(0.2),\n",
    "    Dense(3, activation='softmax')  # 3 output neurons for 3 classes\n",
    "])\n",
    "\n",
    "model.compile(optimizer='Adam', \n",
    "             loss=tf.keras.losses.SparseCategoricalCrossentropy(),\n",
    "             metrics=['accuracy'])"
   ]
  },
  {
   "cell_type": "code",
   "execution_count": 12,
   "id": "6f36b7d4",
   "metadata": {},
   "outputs": [
    {
     "name": "stdout",
     "output_type": "stream",
     "text": [
      "Epoch 1/25\n",
      "6/6 [==============================] - 1s 2ms/step - loss: 1.7714 - accuracy: 0.3353\n",
      "Epoch 2/25\n",
      "6/6 [==============================] - 0s 1ms/step - loss: 1.6643 - accuracy: 0.3174\n",
      "Epoch 3/25\n",
      "6/6 [==============================] - 0s 1ms/step - loss: 1.4230 - accuracy: 0.4012\n",
      "Epoch 4/25\n",
      "6/6 [==============================] - 0s 1ms/step - loss: 1.1635 - accuracy: 0.4311\n",
      "Epoch 5/25\n",
      "6/6 [==============================] - 0s 1ms/step - loss: 0.9709 - accuracy: 0.4850\n",
      "Epoch 6/25\n",
      "6/6 [==============================] - 0s 1ms/step - loss: 0.9712 - accuracy: 0.4790\n",
      "Epoch 7/25\n",
      "6/6 [==============================] - 0s 1ms/step - loss: 0.9979 - accuracy: 0.5090\n",
      "Epoch 8/25\n",
      "6/6 [==============================] - 0s 1ms/step - loss: 1.0056 - accuracy: 0.4251\n",
      "Epoch 9/25\n",
      "6/6 [==============================] - 0s 1ms/step - loss: 0.9055 - accuracy: 0.5030\n",
      "Epoch 10/25\n",
      "6/6 [==============================] - 0s 1ms/step - loss: 0.8732 - accuracy: 0.4491\n",
      "Epoch 11/25\n",
      "6/6 [==============================] - 0s 1ms/step - loss: 0.8829 - accuracy: 0.5210\n",
      "Epoch 12/25\n",
      "6/6 [==============================] - 0s 1ms/step - loss: 0.7993 - accuracy: 0.6048\n",
      "Epoch 13/25\n",
      "6/6 [==============================] - 0s 1ms/step - loss: 0.8489 - accuracy: 0.5090\n",
      "Epoch 14/25\n",
      "6/6 [==============================] - 0s 1ms/step - loss: 0.7716 - accuracy: 0.6048\n",
      "Epoch 15/25\n",
      "6/6 [==============================] - 0s 1ms/step - loss: 0.8042 - accuracy: 0.6287\n",
      "Epoch 16/25\n",
      "6/6 [==============================] - 0s 1ms/step - loss: 0.7215 - accuracy: 0.6527\n",
      "Epoch 17/25\n",
      "6/6 [==============================] - 0s 1ms/step - loss: 0.7766 - accuracy: 0.6467\n",
      "Epoch 18/25\n",
      "6/6 [==============================] - 0s 1ms/step - loss: 0.8118 - accuracy: 0.5269\n",
      "Epoch 19/25\n",
      "6/6 [==============================] - 0s 1ms/step - loss: 0.7846 - accuracy: 0.6347\n",
      "Epoch 20/25\n",
      "6/6 [==============================] - 0s 968us/step - loss: 0.6840 - accuracy: 0.6647\n",
      "Epoch 21/25\n",
      "6/6 [==============================] - 0s 1ms/step - loss: 0.7378 - accuracy: 0.6287\n",
      "Epoch 22/25\n",
      "6/6 [==============================] - 0s 1ms/step - loss: 0.6666 - accuracy: 0.6766\n",
      "Epoch 23/25\n",
      "6/6 [==============================] - 0s 1ms/step - loss: 0.7620 - accuracy: 0.6168\n",
      "Epoch 24/25\n",
      "6/6 [==============================] - 0s 940us/step - loss: 0.7165 - accuracy: 0.6228\n",
      "Epoch 25/25\n",
      "6/6 [==============================] - 0s 1ms/step - loss: 0.7368 - accuracy: 0.5808\n"
     ]
    },
    {
     "data": {
      "text/plain": [
       "<keras.src.callbacks.History at 0x7172c9dd0210>"
      ]
     },
     "execution_count": 12,
     "metadata": {},
     "output_type": "execute_result"
    }
   ],
   "source": [
    "model.fit(x_train_s, y_train, epochs=25)"
   ]
  },
  {
   "cell_type": "code",
   "execution_count": 13,
   "id": "dfc4df7e",
   "metadata": {},
   "outputs": [
    {
     "name": "stdout",
     "output_type": "stream",
     "text": [
      "Model: \"sequential\"\n",
      "_________________________________________________________________\n",
      " Layer (type)                Output Shape              Param #   \n",
      "=================================================================\n",
      " dense (Dense)               (None, 16)                864       \n",
      "                                                                 \n",
      " dropout (Dropout)           (None, 16)                0         \n",
      "                                                                 \n",
      " dense_1 (Dense)             (None, 8)                 136       \n",
      "                                                                 \n",
      " dropout_1 (Dropout)         (None, 8)                 0         \n",
      "                                                                 \n",
      " dense_2 (Dense)             (None, 4)                 36        \n",
      "                                                                 \n",
      " dropout_2 (Dropout)         (None, 4)                 0         \n",
      "                                                                 \n",
      " dense_3 (Dense)             (None, 3)                 15        \n",
      "                                                                 \n",
      "=================================================================\n",
      "Total params: 1051 (4.11 KB)\n",
      "Trainable params: 1051 (4.11 KB)\n",
      "Non-trainable params: 0 (0.00 Byte)\n",
      "_________________________________________________________________\n"
     ]
    }
   ],
   "source": [
    "model.summary()"
   ]
  },
  {
   "cell_type": "code",
   "execution_count": 14,
   "id": "4ed44fb7",
   "metadata": {},
   "outputs": [
    {
     "name": "stdout",
     "output_type": "stream",
     "text": [
      "6/6 [==============================] - 0s 800us/step\n"
     ]
    }
   ],
   "source": [
    "y_pred=model.predict(x_train_s)"
   ]
  },
  {
   "cell_type": "code",
   "execution_count": 15,
   "id": "57b27d60",
   "metadata": {},
   "outputs": [],
   "source": [
    "y_pred_labels = np.argmax(y_pred, axis=1)\n",
    "#y_pred_labels"
   ]
  },
  {
   "cell_type": "code",
   "execution_count": 16,
   "id": "4584cba2",
   "metadata": {},
   "outputs": [
    {
     "data": {
      "text/plain": [
       "0.9101796407185628"
      ]
     },
     "execution_count": 16,
     "metadata": {},
     "output_type": "execute_result"
    }
   ],
   "source": [
    "accuracy_score(y_train, y_pred_labels)"
   ]
  },
  {
   "cell_type": "code",
   "execution_count": 20,
   "id": "36bc2d65",
   "metadata": {},
   "outputs": [
    {
     "name": "stdout",
     "output_type": "stream",
     "text": [
      "1/1 [==============================] - 0s 11ms/step\n"
     ]
    }
   ],
   "source": [
    "y_test_pred= model.predict(x_test_s)\n",
    "y_test_pred_labels= np.argmax(y_test_pred,axis=1)\n",
    "#y_test_pred"
   ]
  },
  {
   "cell_type": "code",
   "execution_count": 21,
   "id": "e7ce474c",
   "metadata": {},
   "outputs": [
    {
     "data": {
      "text/plain": [
       "array([1, 0, 2, 0, 1, 1, 0, 0, 2, 1, 1, 2, 1, 0, 0, 0, 1, 2, 0, 1, 0, 0,\n",
       "       1, 2, 0, 0, 1, 1, 2, 0])"
      ]
     },
     "execution_count": 21,
     "metadata": {},
     "output_type": "execute_result"
    }
   ],
   "source": [
    "y_test_pred_labels"
   ]
  },
  {
   "cell_type": "code",
   "execution_count": 22,
   "id": "2bcde94f",
   "metadata": {},
   "outputs": [
    {
     "data": {
      "text/plain": [
       "0.9666666666666667"
      ]
     },
     "execution_count": 22,
     "metadata": {},
     "output_type": "execute_result"
    }
   ],
   "source": [
    "accuracy_score(y_test, y_test_pred_labels)"
   ]
  },
  {
   "cell_type": "code",
   "execution_count": 23,
   "id": "e090aec1",
   "metadata": {},
   "outputs": [
    {
     "data": {
      "text/plain": [
       "(30,)"
      ]
     },
     "execution_count": 23,
     "metadata": {},
     "output_type": "execute_result"
    }
   ],
   "source": [
    "y_test_pred_labels.shape"
   ]
  },
  {
   "cell_type": "code",
   "execution_count": 25,
   "id": "9ab91958",
   "metadata": {},
   "outputs": [
    {
     "data": {
      "image/png": "[encoded data removed]",
      "text/plain": [
       "<Figure size 640x480 with 2 Axes>"
      ]
     },
     "metadata": {},
     "output_type": "display_data"
    }
   ],
   "source": [
    "# Create the confusion matrix\n",
    "cm = confusion_matrix(y_test, y_test_pred_labels)\n",
    "\n",
    "ConfusionMatrixDisplay(confusion_matrix=cm).plot();"
   ]
  },
  {
   "cell_type": "code",
   "execution_count": 26,
   "id": "5745d97a",
   "metadata": {},
   "outputs": [],
   "source": [
    "from sklearn.ensemble import RandomForestClassifier,GradientBoostingClassifier\n",
    "from sklearn.metrics import accuracy_score,f1_score"
   ]
  },
  {
   "cell_type": "code",
   "execution_count": 27,
   "id": "7001efac",
   "metadata": {},
   "outputs": [],
   "source": [
    "rfc=RandomForestClassifier()\n",
    "gbc=GradientBoostingClassifier()"
   ]
  },
  {
   "cell_type": "code",
   "execution_count": 28,
   "id": "32c4dedb",
   "metadata": {},
   "outputs": [],
   "source": [
    "model_RFC= rfc.fit(x_train, y_train)\n",
    "model_GBC=gbc.fit(x_train, y_train)"
   ]
  },
  {
   "cell_type": "code",
   "execution_count": 29,
   "id": "7f7b754f",
   "metadata": {},
   "outputs": [
    {
     "data": {
      "text/plain": [
       "1.0"
      ]
     },
     "execution_count": 29,
     "metadata": {},
     "output_type": "execute_result"
    }
   ],
   "source": [
    "y_train_pred= model_RFC.predict(x_train)\n",
    "accuracy_score(y_train_pred, y_train)"
   ]
  },
  {
   "cell_type": "code",
   "execution_count": 30,
   "id": "5bdeda68",
   "metadata": {},
   "outputs": [
    {
     "data": {
      "text/plain": [
       "1.0"
      ]
     },
     "execution_count": 30,
     "metadata": {},
     "output_type": "execute_result"
    }
   ],
   "source": [
    "y_test_pred=model_RFC.predict(x_test)\n",
    "accuracy_score(y_test_pred,y_test)"
   ]
  },
  {
   "cell_type": "code",
   "execution_count": 31,
   "id": "589ffa09",
   "metadata": {},
   "outputs": [
    {
     "data": {
      "image/png": "[encoded data removed]",
      "text/plain": [
       "<Figure size 640x480 with 2 Axes>"
      ]
     },
     "metadata": {},
     "output_type": "display_data"
    }
   ],
   "source": [
    "y_pred = rfc.predict(x_test)\n",
    "\n",
    "# Create the confusion matrix\n",
    "cm = confusion_matrix(y_test, y_pred)\n",
    "\n",
    "ConfusionMatrixDisplay(confusion_matrix=cm).plot();"
   ]
  },
  {
   "cell_type": "code",
   "execution_count": 32,
   "id": "4b8b74e0",
   "metadata": {},
   "outputs": [
    {
     "data": {
      "text/plain": [
       "1.0"
      ]
     },
     "execution_count": 32,
     "metadata": {},
     "output_type": "execute_result"
    }
   ],
   "source": [
    "y_train_pred=model_GBC.predict(x_train)\n",
    "accuracy_score(y_train_pred,y_train)"
   ]
  },
  {
   "cell_type": "code",
   "execution_count": 33,
   "id": "58bbe701",
   "metadata": {},
   "outputs": [
    {
     "data": {
      "text/plain": [
       "0.9666666666666667"
      ]
     },
     "execution_count": 33,
     "metadata": {},
     "output_type": "execute_result"
    }
   ],
   "source": [
    "y_test_pred=model_GBC.predict(x_test)\n",
    "accuracy_score(y_test_pred, y_test)"
   ]
  },
  {
   "cell_type": "code",
   "execution_count": 34,
   "id": "87697e4c",
   "metadata": {},
   "outputs": [
    {
     "data": {
      "image/png": "[encoded data removed]",
      "text/plain": [
       "<Figure size 640x480 with 2 Axes>"
      ]
     },
     "metadata": {},
     "output_type": "display_data"
    }
   ],
   "source": [
    "y_pred = gbc.predict(x_test)\n",
    "\n",
    "# Create the confusion matrix\n",
    "cm = confusion_matrix(y_test, y_pred)\n",
    "\n",
    "ConfusionMatrixDisplay(confusion_matrix=cm).plot();"
   ]
  },
  {
   "cell_type": "code",
   "execution_count": 35,
   "id": "535f7d44",
   "metadata": {},
   "outputs": [],
   "source": [
    "from xgboost import XGBClassifier"
   ]
  },
  {
   "cell_type": "code",
   "execution_count": 36,
   "id": "cbc0782b",
   "metadata": {},
   "outputs": [],
   "source": [
    "xgb=XGBClassifier()"
   ]
  },
  {
   "cell_type": "code",
   "execution_count": 37,
   "id": "b65414ab",
   "metadata": {},
   "outputs": [],
   "source": [
    "model_xg=xgb.fit(x_train_s, y_train)"
   ]
  },
  {
   "cell_type": "code",
   "execution_count": 38,
   "id": "c17f1083",
   "metadata": {},
   "outputs": [],
   "source": [
    "y_train_pred=model_xg.predict(x_train_s)"
   ]
  },
  {
   "cell_type": "code",
   "execution_count": 39,
   "id": "e1ea14c4",
   "metadata": {},
   "outputs": [
    {
     "data": {
      "text/plain": [
       "1.0"
      ]
     },
     "execution_count": 39,
     "metadata": {},
     "output_type": "execute_result"
    }
   ],
   "source": [
    "accuracy_score(y_train_pred, y_train)"
   ]
  },
  {
   "cell_type": "code",
   "execution_count": 40,
   "id": "7acfc34e",
   "metadata": {},
   "outputs": [
    {
     "data": {
      "image/png": "[encoded data removed]",
      "text/plain": [
       "<Figure size 640x480 with 2 Axes>"
      ]
     },
     "metadata": {},
     "output_type": "display_data"
    }
   ],
   "source": [
    "y_pred = xgb.predict(x_test_s)\n",
    "\n",
    "# Create the confusion matrix\n",
    "cm = confusion_matrix(y_test, y_pred)\n",
    "\n",
    "ConfusionMatrixDisplay(confusion_matrix=cm).plot();"
   ]
  },
  {
   "cell_type": "code",
   "execution_count": null,
   "id": "7ade6770",
   "metadata": {},
   "outputs": [],
   "source": []
  }
 ],
 "metadata": {
  "kernelspec": {
   "display_name": "Python 3 (ipykernel)",
   "language": "python",
   "name": "python3"
  },
  "language_info": {
   "codemirror_mode": {
    "name": "ipython",
    "version": 3
   },
   "file_extension": ".py",
   "mimetype": "text/x-python",
   "name": "python",
   "nbconvert_exporter": "python",
   "pygments_lexer": "ipython3",
   "version": "3.11.6"
  }
 },
 "nbformat": 4,
 "nbformat_minor": 5
}
