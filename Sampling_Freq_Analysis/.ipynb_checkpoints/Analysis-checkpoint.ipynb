{
 "cells": [
  {
   "cell_type": "code",
   "execution_count": 2,
   "id": "d6f93fce-13c1-4d48-a255-99c658d0bb0c",
   "metadata": {},
   "outputs": [],
   "source": [
    "import os\n",
    "import numpy as np\n",
    "import pandas as pd\n",
    "import matplotlib.pyplot as plt\n",
    "from scipy.signal import spectrogram"
   ]
  },
  {
   "cell_type": "code",
   "execution_count": 10,
   "id": "3a7a1044-ce7a-4b03-92ed-0a6cdb2ff742",
   "metadata": {},
   "outputs": [],
   "source": [
    "# -------- CONFIG --------\n",
    "FOLDER_PATH = \"/home/ette/Desktop/Gesture_Classification_Accelerometer/Sampling_Freq_Analysis/200Hz/\"  # Update this to your CSV folder path\n",
    "COLUMN_NAME = \"Z\"                 # Column to use for spectrogram (e.g., \"X\", \"Y\", or \"Z\")\n",
    "SAMPLING_RATE = 200              # In Hz, adjust based on your sensor\n",
    "SAVE_PLOTS = True\n",
    "SHOW_PLOTS = False\n",
    "OUTPUT_DIR = \"spectrograms/200Hz\""
   ]
  },
  {
   "cell_type": "code",
   "execution_count": 11,
   "id": "a060d459-c1ab-424e-887b-920682f6a341",
   "metadata": {},
   "outputs": [
    {
     "name": "stdout",
     "output_type": "stream",
     "text": [
      "Saved: spectrograms/200Hz/data_14_spectrogram.png\n",
      "Saved: spectrograms/200Hz/data_6_spectrogram.png\n",
      "Saved: spectrograms/200Hz/data_39_spectrogram.png\n",
      "Saved: spectrograms/200Hz/data_28_spectrogram.png\n",
      "Saved: spectrograms/200Hz/data_8_spectrogram.png\n",
      "Saved: spectrograms/200Hz/data_20_spectrogram.png\n",
      "Saved: spectrograms/200Hz/data_5_spectrogram.png\n",
      "Saved: spectrograms/200Hz/data_18_spectrogram.png\n",
      "Saved: spectrograms/200Hz/data_30_spectrogram.png\n",
      "Saved: spectrograms/200Hz/data_15_spectrogram.png\n",
      "Saved: spectrograms/200Hz/data_25_spectrogram.png\n",
      "Saved: spectrograms/200Hz/data_22_spectrogram.png\n",
      "Saved: spectrograms/200Hz/data_34_spectrogram.png\n",
      "Saved: spectrograms/200Hz/data_11_spectrogram.png\n",
      "Saved: spectrograms/200Hz/data_32_spectrogram.png\n",
      "Saved: spectrograms/200Hz/data_24_spectrogram.png\n",
      "Saved: spectrograms/200Hz/data_23_spectrogram.png\n",
      "Saved: spectrograms/200Hz/data_10_spectrogram.png\n",
      "Saved: spectrograms/200Hz/data_40_spectrogram.png\n",
      "Saved: spectrograms/200Hz/data_9_spectrogram.png\n",
      "Saved: spectrograms/200Hz/data_29_spectrogram.png\n",
      "Saved: spectrograms/200Hz/data_2_spectrogram.png\n",
      "Saved: spectrograms/200Hz/data_35_spectrogram.png\n",
      "Saved: spectrograms/200Hz/data_26_spectrogram.png\n",
      "Saved: spectrograms/200Hz/data_1_spectrogram.png\n",
      "Saved: spectrograms/200Hz/data_17_spectrogram.png\n",
      "Saved: spectrograms/200Hz/data_7_spectrogram.png\n",
      "Saved: spectrograms/200Hz/data_4_spectrogram.png\n",
      "Saved: spectrograms/200Hz/data_19_spectrogram.png\n",
      "Saved: spectrograms/200Hz/data_3_spectrogram.png\n",
      "Saved: spectrograms/200Hz/data_16_spectrogram.png\n",
      "Saved: spectrograms/200Hz/data_33_spectrogram.png\n",
      "Saved: spectrograms/200Hz/data_36_spectrogram.png\n",
      "Saved: spectrograms/200Hz/data_21_spectrogram.png\n",
      "Saved: spectrograms/200Hz/data_13_spectrogram.png\n",
      "Saved: spectrograms/200Hz/data_27_spectrogram.png\n",
      "Saved: spectrograms/200Hz/data_12_spectrogram.png\n",
      "Saved: spectrograms/200Hz/data_31_spectrogram.png\n",
      "Saved: spectrograms/200Hz/data_37_spectrogram.png\n",
      "Saved: spectrograms/200Hz/data_38_spectrogram.png\n"
     ]
    }
   ],
   "source": [
    "# Create output directory\n",
    "os.makedirs(OUTPUT_DIR, exist_ok=True)\n",
    "\n",
    "# -------- PROCESS FILES --------\n",
    "for file_name in os.listdir(FOLDER_PATH):\n",
    "    if file_name.endswith(\".csv\"):\n",
    "        file_path = os.path.join(FOLDER_PATH, file_name)\n",
    "        df = pd.read_csv(file_path)\n",
    "\n",
    "        if COLUMN_NAME not in df.columns:\n",
    "            print(f\"Skipping {file_name}: Column '{COLUMN_NAME}' not found.\")\n",
    "            continue\n",
    "\n",
    "        signal = df[COLUMN_NAME].dropna().values\n",
    "\n",
    "        # Compute spectrogram\n",
    "        f, t, Sxx = spectrogram(signal, fs=SAMPLING_RATE, nperseg=32, noverlap=8, nfft=128)\n",
    "\n",
    "\n",
    "        # Plot spectrogram\n",
    "        plt.figure(figsize=(10, 4))\n",
    "        plt.pcolormesh(t, f, 10 * np.log10(Sxx), shading='gouraud')\n",
    "        plt.ylabel('Frequency [Hz]')\n",
    "        plt.xlabel('Time [sec]')\n",
    "        plt.title(f\"Spectrogram - {file_name}\")\n",
    "        plt.colorbar(label='Intensity [dB]')\n",
    "        plt.tight_layout()\n",
    "\n",
    "        # Save plot\n",
    "        if SAVE_PLOTS:\n",
    "            plot_filename = os.path.join(OUTPUT_DIR, f\"{os.path.splitext(file_name)[0]}_spectrogram.png\")\n",
    "            plt.savefig(plot_filename)\n",
    "            print(f\"Saved: {plot_filename}\")\n",
    "\n",
    "        if SHOW_PLOTS:\n",
    "            plt.show()\n",
    "        else:\n",
    "            plt.close()\n"
   ]
  },
  {
   "cell_type": "code",
   "execution_count": null,
   "id": "baaac03f-f73d-4b39-bc6e-5505c52bf418",
   "metadata": {},
   "outputs": [],
   "source": []
  }
 ],
 "metadata": {
  "kernelspec": {
   "display_name": "Python 3 (ipykernel)",
   "language": "python",
   "name": "python3"
  },
  "language_info": {
   "codemirror_mode": {
    "name": "ipython",
    "version": 3
   },
   "file_extension": ".py",
   "mimetype": "text/x-python",
   "name": "python",
   "nbconvert_exporter": "python",
   "pygments_lexer": "ipython3",
   "version": "3.12.3"
  }
 },
 "nbformat": 4,
 "nbformat_minor": 5
}
