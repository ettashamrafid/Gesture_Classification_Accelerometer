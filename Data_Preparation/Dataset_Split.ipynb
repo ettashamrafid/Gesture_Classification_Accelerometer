{
 "cells": [
  {
   "cell_type": "code",
   "execution_count": 1,
   "id": "9efe0893-7975-493e-98fc-1870c828fd99",
   "metadata": {},
   "outputs": [],
   "source": [
    "import numpy as np\n",
    "import pandas as pd\n",
    "import os\n",
    "from sklearn.model_selection import train_test_split\n",
    "from sklearn.preprocessing import StandardScaler"
   ]
  },
  {
   "cell_type": "code",
   "execution_count": 2,
   "id": "a635a46e-4f7d-46e4-9e3b-121af477c815",
   "metadata": {},
   "outputs": [],
   "source": [
    "data=pd.read_csv('ML_Data_48.csv')"
   ]
  },
  {
   "cell_type": "code",
   "execution_count": 3,
   "id": "83dc9bf9-7243-4c21-a24b-d284ac1192ff",
   "metadata": {},
   "outputs": [],
   "source": [
    "data=data.drop(['Z_jerk_mean', 'X_jerk_mean', 'total_jerk_mean', 'Y_jerk_mean','X_jerk_mean','X_jerk_min', 'X_min', 'timestamp_range', 'Y_mean', 'X_mean', 'X_max','Z_mean', 'X_jerk_max', 'X_jerk_range', 'X_range'], axis=1)"
   ]
  },
  {
   "cell_type": "code",
   "execution_count": 4,
   "id": "8e3d0f00-0ea5-4948-aadd-bf17c4c1ae5e",
   "metadata": {},
   "outputs": [
    {
     "data": {
      "text/plain": [
       "Index(['label', 'X_rms', 'X_std', 'Y_min', 'Y_max', 'Y_range', 'Y_rms',\n",
       "       'Y_std', 'Z_min', 'Z_max', 'Z_range', 'Z_rms', 'Z_std', 'X_jerk_rms',\n",
       "       'X_jerk_std', 'Y_jerk_min', 'Y_jerk_max', 'Y_jerk_range', 'Y_jerk_rms',\n",
       "       'Y_jerk_std', 'Z_jerk_min', 'Z_jerk_max', 'Z_jerk_range', 'Z_jerk_rms',\n",
       "       'Z_jerk_std', 'total_jerk_min', 'total_jerk_max', 'total_jerk_range',\n",
       "       'total_jerk_rms', 'total_jerk_std', 'SMA', 'X_entropy', 'Y_entropy',\n",
       "       'Z_entropy'],\n",
       "      dtype='object')"
      ]
     },
     "execution_count": 4,
     "metadata": {},
     "output_type": "execute_result"
    }
   ],
   "source": [
    "data.columns"
   ]
  },
  {
   "cell_type": "code",
   "execution_count": 5,
   "id": "66a69cb0-9dd9-4b54-9163-a144de524bc0",
   "metadata": {},
   "outputs": [],
   "source": [
    "x=data.drop(['label'], axis=1)\n",
    "y=data['label']"
   ]
  },
  {
   "cell_type": "code",
   "execution_count": 6,
   "id": "7779b9b1-afab-4be6-a043-42c1f8ff9138",
   "metadata": {},
   "outputs": [],
   "source": [
    "scale=StandardScaler()\n",
    "x=scale.fit_transform(x)"
   ]
  },
  {
   "cell_type": "code",
   "execution_count": 7,
   "id": "12bad0a3-a1e4-4e5f-857a-7131e84acb7d",
   "metadata": {},
   "outputs": [
    {
     "data": {
      "text/plain": [
       "((561, 33), (3174, 33))"
      ]
     },
     "execution_count": 7,
     "metadata": {},
     "output_type": "execute_result"
    }
   ],
   "source": [
    "x_t, x_test, y_t, y_test= train_test_split(x,y,test_size=0.15, random_state=42)\n",
    "x_test.shape, x_t.shape"
   ]
  },
  {
   "cell_type": "code",
   "execution_count": 8,
   "id": "514c4cb5-29e4-4159-bf0f-a2c194f4a7ab",
   "metadata": {},
   "outputs": [
    {
     "data": {
      "text/plain": [
       "((2602, 33), (572, 33))"
      ]
     },
     "execution_count": 8,
     "metadata": {},
     "output_type": "execute_result"
    }
   ],
   "source": [
    "x_train, x_val, y_train, y_val= train_test_split(x_t, y_t, test_size=0.18, random_state=42)\n",
    "x_train.shape, x_val.shape"
   ]
  },
  {
   "cell_type": "code",
   "execution_count": 9,
   "id": "109f12f4-a600-4ee0-8f2a-88da1ee968df",
   "metadata": {},
   "outputs": [],
   "source": [
    "# Convert x_train, x_val, and x_test to DataFrames\n",
    "x_train_df = pd.DataFrame(x_train)\n",
    "x_val_df = pd.DataFrame(x_val)\n",
    "x_test_df = pd.DataFrame(x_test)\n",
    "\n",
    "# Reset the index of y_train, y_val, and y_test and drop NaN values\n",
    "y_train_reset = y_train.dropna().reset_index(drop=True)\n",
    "y_val_reset = y_val.dropna().reset_index(drop=True)\n",
    "y_test_reset = y_test.dropna().reset_index(drop=True)\n",
    "\n",
    "# Ensure x_train, x_val, and x_test are aligned with their respective y values after dropping NaN rows\n",
    "x_train_reset = x_train_df.iloc[:len(y_train_reset), :].reset_index(drop=True)\n",
    "x_val_reset = x_val_df.iloc[:len(y_val_reset), :].reset_index(drop=True)\n",
    "x_test_reset = x_test_df.iloc[:len(y_test_reset), :].reset_index(drop=True)\n",
    "\n",
    "# Concatenate x_train, x_val, and x_test with their cleaned y values\n",
    "df_train = pd.concat([x_train_reset, pd.DataFrame(y_train_reset, columns=['label'])], axis=1)\n",
    "df_val = pd.concat([x_val_reset, pd.DataFrame(y_val_reset, columns=['label'])], axis=1)\n",
    "df_test = pd.concat([x_test_reset, pd.DataFrame(y_test_reset, columns=['label'])], axis=1)\n",
    "\n",
    "# Save the concatenated DataFrames as CSV files\n",
    "df_train.to_csv('train_data.csv', index=False)\n",
    "df_val.to_csv('val_data.csv', index=False)\n",
    "df_test.to_csv('test_data.csv', index=False)\n"
   ]
  }
 ],
 "metadata": {
  "kernelspec": {
   "display_name": "Python 3 (ipykernel)",
   "language": "python",
   "name": "python3"
  },
  "language_info": {
   "codemirror_mode": {
    "name": "ipython",
    "version": 3
   },
   "file_extension": ".py",
   "mimetype": "text/x-python",
   "name": "python",
   "nbconvert_exporter": "python",
   "pygments_lexer": "ipython3",
   "version": "3.12.3"
  }
 },
 "nbformat": 4,
 "nbformat_minor": 5
}
