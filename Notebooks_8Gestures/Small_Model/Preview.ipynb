{
 "cells": [
  {
   "cell_type": "code",
   "execution_count": 1,
   "id": "b6aaf8e5-b983-4998-a90c-e2618be51293",
   "metadata": {},
   "outputs": [],
   "source": [
    "import pandas as pd\n",
    "import matplotlib.pyplot as plt\n",
    "import glob\n",
    "import os"
   ]
  },
  {
   "cell_type": "code",
   "execution_count": 2,
   "id": "dca1433d-8c5c-4e62-b09c-79376fba78d0",
   "metadata": {},
   "outputs": [],
   "source": [
    "# Set your folder path here\n",
    "folder_path = '/home/ette/Desktop/Gesture_Classification_Accelerometer/Notebooks_8Gestures/Small_Model/Atique/'  # e.g., './accelerometer_data/'"
   ]
  },
  {
   "cell_type": "code",
   "execution_count": null,
   "id": "5b9ef67a-636b-4560-99da-275478b7ad67",
   "metadata": {
    "jp-MarkdownHeadingCollapsed": true
   },
   "outputs": [],
   "source": [
    "# Get all CSV files in the folder\n",
    "csv_files = glob.glob(os.path.join(folder_path, '*.csv'))\n",
    "\n",
    "# Loop through each file and plot\n",
    "for file in csv_files:\n",
    "    df = pd.read_csv(file)\n",
    "\n",
    "    # Ensure required columns exist\n",
    "    if not all(col in df.columns for col in ['TimeStamp', 'Z', 'Y', 'X']):\n",
    "        print(f\"Skipping {file} — missing columns.\")\n",
    "        continue\n",
    "\n",
    "    # Convert timestamp to datetime if it's not already\n",
    "    try:\n",
    "        df['Timestamp'] = pd.to_datetime(df['TimeStamp'])\n",
    "    except:\n",
    "        pass  # Assume already in numeric format\n",
    "\n",
    "    # Plotting\n",
    "    plt.figure(figsize=(12, 6))\n",
    "    plt.plot( df['X'], label='X-axis')\n",
    "    plt.plot( df['Y'], label='Y-axis')\n",
    "    plt.plot( df['Z'], label='Z-axis')\n",
    "\n",
    "    plt.title(f\"Accelerometer Data: {os.path.basename(file)}\")\n",
    "    plt.xlabel(\"Timestamp\")\n",
    "    plt.ylabel(\"Acceleration\")\n",
    "    plt.legend()\n",
    "    plt.grid(True)\n",
    "    plt.tight_layout()\n",
    "    plt.show()"
   ]
  },
  {
   "cell_type": "code",
   "execution_count": 4,
   "id": "fb58771a-cebc-471b-ad19-e86b48b60998",
   "metadata": {},
   "outputs": [],
   "source": [
    "\n",
    "# df = pd.read_csv(\"Gravity.csv\")\n",
    "\n",
    "# #     # Ensure required columns exist\n",
    "# # if not all(col in df.columns for col in ['X', 'Y', 'Z', 'Timestamp']):\n",
    "# #     print(f\"Skipping {file} — missing columns.\")\n",
    "# #     continue\n",
    "\n",
    "# # # Convert timestamp to datetime if it's not already\n",
    "# # try:\n",
    "# #     df['timestamp'] = pd.to_datetime(df['timestamp'])\n",
    "# # except:\n",
    "# #     pass  # Assume already in numeric format\n",
    "\n",
    "# # Plotting\n",
    "# plt.figure(figsize=(12, 6))\n",
    "# plt.plot(df['X'], label='X-axis')\n",
    "# plt.plot(df['Y'], label='Y-axis')\n",
    "# plt.plot(df['Z'], label='Z-axis')\n",
    "\n",
    "# # plt.title(f\"Accelerometer Data: {os.path.basename(file)}\")\n",
    "# plt.xlabel(\"Timestamp\")\n",
    "# plt.ylabel(\"Acceleration\")\n",
    "# plt.legend()\n",
    "# plt.grid(True)\n",
    "# plt.tight_layout()\n",
    "# plt.show()"
   ]
  },
  {
   "cell_type": "code",
   "execution_count": null,
   "id": "12b147aa-3632-400f-a404-54c15598717e",
   "metadata": {},
   "outputs": [],
   "source": []
  }
 ],
 "metadata": {
  "kernelspec": {
   "display_name": "Python 3 (ipykernel)",
   "language": "python",
   "name": "python3"
  },
  "language_info": {
   "codemirror_mode": {
    "name": "ipython",
    "version": 3
   },
   "file_extension": ".py",
   "mimetype": "text/x-python",
   "name": "python",
   "nbconvert_exporter": "python",
   "pygments_lexer": "ipython3",
   "version": "3.12.3"
  }
 },
 "nbformat": 4,
 "nbformat_minor": 5
}
