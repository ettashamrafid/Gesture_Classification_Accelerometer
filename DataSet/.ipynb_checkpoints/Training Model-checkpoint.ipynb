{
 "cells": [
  {
   "cell_type": "code",
   "execution_count": 1,
   "id": "8254dbf9",
   "metadata": {},
   "outputs": [],
   "source": [
    "import numpy as np\n",
    "import pandas as pd\n",
    "import matplotlib.pyplot as plt"
   ]
  },
  {
   "cell_type": "code",
   "execution_count": 2,
   "id": "4d12a8ff",
   "metadata": {},
   "outputs": [],
   "source": [
    "from sklearn.preprocessing import StandardScaler, PolynomialFeatures\n",
    "from sklearn.linear_model import LinearRegression\n",
    "from sklearn.model_selection import train_test_split,KFold\n",
    "from sklearn.metrics import accuracy_score, confusion_matrix, precision_score, recall_score, ConfusionMatrixDisplay"
   ]
  },
  {
   "cell_type": "code",
   "execution_count": 3,
   "id": "cbe789f3",
   "metadata": {},
   "outputs": [],
   "source": [
    "data=pd.read_csv('ML_Data.csv')"
   ]
  },
  {
   "cell_type": "code",
   "execution_count": 4,
   "id": "b4fcf1e6",
   "metadata": {},
   "outputs": [
    {
     "data": {
      "text/html": [
       "<div>\n",
       "<style scoped>\n",
       "    .dataframe tbody tr th:only-of-type {\n",
       "        vertical-align: middle;\n",
       "    }\n",
       "\n",
       "    .dataframe tbody tr th {\n",
       "        vertical-align: top;\n",
       "    }\n",
       "\n",
       "    .dataframe thead th {\n",
       "        text-align: right;\n",
       "    }\n",
       "</style>\n",
       "<table border=\"1\" class=\"dataframe\">\n",
       "  <thead>\n",
       "    <tr style=\"text-align: right;\">\n",
       "      <th></th>\n",
       "      <th>label</th>\n",
       "      <th>X_min</th>\n",
       "      <th>X_max</th>\n",
       "      <th>X_range</th>\n",
       "      <th>X_mean</th>\n",
       "      <th>X_rms</th>\n",
       "      <th>X_std</th>\n",
       "      <th>Y_min</th>\n",
       "      <th>Y_max</th>\n",
       "      <th>Y_range</th>\n",
       "      <th>...</th>\n",
       "      <th>Z_jerk_mean</th>\n",
       "      <th>Z_jerk_rms</th>\n",
       "      <th>Z_jerk_std</th>\n",
       "      <th>total_jerk_min</th>\n",
       "      <th>total_jerk_max</th>\n",
       "      <th>total_jerk_range</th>\n",
       "      <th>total_jerk_mean</th>\n",
       "      <th>total_jerk_rms</th>\n",
       "      <th>total_jerk_std</th>\n",
       "      <th>timestamp_range</th>\n",
       "    </tr>\n",
       "  </thead>\n",
       "  <tbody>\n",
       "    <tr>\n",
       "      <th>0</th>\n",
       "      <td>3</td>\n",
       "      <td>-0.410101</td>\n",
       "      <td>-0.079512</td>\n",
       "      <td>0.330589</td>\n",
       "      <td>-0.251080</td>\n",
       "      <td>0.261023</td>\n",
       "      <td>0.071800</td>\n",
       "      <td>-0.269576</td>\n",
       "      <td>0.048283</td>\n",
       "      <td>0.317860</td>\n",
       "      <td>...</td>\n",
       "      <td>0.392770</td>\n",
       "      <td>3.972709</td>\n",
       "      <td>3.977877</td>\n",
       "      <td>-6.132857</td>\n",
       "      <td>10.476355</td>\n",
       "      <td>16.609212</td>\n",
       "      <td>0.313927</td>\n",
       "      <td>3.033638</td>\n",
       "      <td>3.036151</td>\n",
       "      <td>0.880</td>\n",
       "    </tr>\n",
       "    <tr>\n",
       "      <th>1</th>\n",
       "      <td>3</td>\n",
       "      <td>-0.490864</td>\n",
       "      <td>-0.162326</td>\n",
       "      <td>0.328538</td>\n",
       "      <td>-0.294568</td>\n",
       "      <td>0.307219</td>\n",
       "      <td>0.087798</td>\n",
       "      <td>-0.273531</td>\n",
       "      <td>-0.021580</td>\n",
       "      <td>0.251951</td>\n",
       "      <td>...</td>\n",
       "      <td>-0.000206</td>\n",
       "      <td>4.860752</td>\n",
       "      <td>4.891038</td>\n",
       "      <td>-8.956873</td>\n",
       "      <td>10.840399</td>\n",
       "      <td>19.797273</td>\n",
       "      <td>0.076126</td>\n",
       "      <td>4.133738</td>\n",
       "      <td>4.158789</td>\n",
       "      <td>0.880</td>\n",
       "    </tr>\n",
       "    <tr>\n",
       "      <th>2</th>\n",
       "      <td>3</td>\n",
       "      <td>-0.402662</td>\n",
       "      <td>-0.076860</td>\n",
       "      <td>0.325802</td>\n",
       "      <td>-0.275716</td>\n",
       "      <td>0.285628</td>\n",
       "      <td>0.075039</td>\n",
       "      <td>-0.452995</td>\n",
       "      <td>-0.123180</td>\n",
       "      <td>0.329815</td>\n",
       "      <td>...</td>\n",
       "      <td>0.075751</td>\n",
       "      <td>4.095743</td>\n",
       "      <td>4.119637</td>\n",
       "      <td>-10.770594</td>\n",
       "      <td>12.912274</td>\n",
       "      <td>23.682868</td>\n",
       "      <td>0.047311</td>\n",
       "      <td>4.002497</td>\n",
       "      <td>4.026255</td>\n",
       "      <td>0.913</td>\n",
       "    </tr>\n",
       "    <tr>\n",
       "      <th>3</th>\n",
       "      <td>3</td>\n",
       "      <td>-0.489844</td>\n",
       "      <td>0.188028</td>\n",
       "      <td>0.677872</td>\n",
       "      <td>-0.213912</td>\n",
       "      <td>0.243062</td>\n",
       "      <td>0.116136</td>\n",
       "      <td>-0.281932</td>\n",
       "      <td>0.251616</td>\n",
       "      <td>0.533547</td>\n",
       "      <td>...</td>\n",
       "      <td>0.156812</td>\n",
       "      <td>6.156164</td>\n",
       "      <td>6.192511</td>\n",
       "      <td>-29.781430</td>\n",
       "      <td>12.893764</td>\n",
       "      <td>42.675194</td>\n",
       "      <td>-0.037698</td>\n",
       "      <td>5.554070</td>\n",
       "      <td>5.588546</td>\n",
       "      <td>0.880</td>\n",
       "    </tr>\n",
       "    <tr>\n",
       "      <th>4</th>\n",
       "      <td>3</td>\n",
       "      <td>-0.493647</td>\n",
       "      <td>0.016885</td>\n",
       "      <td>0.510532</td>\n",
       "      <td>-0.222940</td>\n",
       "      <td>0.248780</td>\n",
       "      <td>0.111159</td>\n",
       "      <td>-0.275122</td>\n",
       "      <td>-0.017692</td>\n",
       "      <td>0.257430</td>\n",
       "      <td>...</td>\n",
       "      <td>0.835413</td>\n",
       "      <td>4.158667</td>\n",
       "      <td>4.101701</td>\n",
       "      <td>-6.553897</td>\n",
       "      <td>9.229278</td>\n",
       "      <td>15.783175</td>\n",
       "      <td>0.656306</td>\n",
       "      <td>3.466983</td>\n",
       "      <td>3.427534</td>\n",
       "      <td>0.803</td>\n",
       "    </tr>\n",
       "    <tr>\n",
       "      <th>...</th>\n",
       "      <td>...</td>\n",
       "      <td>...</td>\n",
       "      <td>...</td>\n",
       "      <td>...</td>\n",
       "      <td>...</td>\n",
       "      <td>...</td>\n",
       "      <td>...</td>\n",
       "      <td>...</td>\n",
       "      <td>...</td>\n",
       "      <td>...</td>\n",
       "      <td>...</td>\n",
       "      <td>...</td>\n",
       "      <td>...</td>\n",
       "      <td>...</td>\n",
       "      <td>...</td>\n",
       "      <td>...</td>\n",
       "      <td>...</td>\n",
       "      <td>...</td>\n",
       "      <td>...</td>\n",
       "      <td>...</td>\n",
       "      <td>...</td>\n",
       "    </tr>\n",
       "    <tr>\n",
       "      <th>1611</th>\n",
       "      <td>5</td>\n",
       "      <td>-0.433741</td>\n",
       "      <td>0.432229</td>\n",
       "      <td>0.865970</td>\n",
       "      <td>-0.012953</td>\n",
       "      <td>0.217722</td>\n",
       "      <td>0.218725</td>\n",
       "      <td>-0.413268</td>\n",
       "      <td>0.027795</td>\n",
       "      <td>0.441063</td>\n",
       "      <td>...</td>\n",
       "      <td>0.230066</td>\n",
       "      <td>4.486570</td>\n",
       "      <td>4.509298</td>\n",
       "      <td>-11.285436</td>\n",
       "      <td>17.537944</td>\n",
       "      <td>28.823380</td>\n",
       "      <td>0.341980</td>\n",
       "      <td>4.932946</td>\n",
       "      <td>4.952523</td>\n",
       "      <td>0.858</td>\n",
       "    </tr>\n",
       "    <tr>\n",
       "      <th>1612</th>\n",
       "      <td>5</td>\n",
       "      <td>-0.518294</td>\n",
       "      <td>0.303236</td>\n",
       "      <td>0.821530</td>\n",
       "      <td>-0.076117</td>\n",
       "      <td>0.227993</td>\n",
       "      <td>0.216268</td>\n",
       "      <td>-0.336440</td>\n",
       "      <td>0.033020</td>\n",
       "      <td>0.369460</td>\n",
       "      <td>...</td>\n",
       "      <td>0.045476</td>\n",
       "      <td>3.691991</td>\n",
       "      <td>3.715002</td>\n",
       "      <td>-7.986155</td>\n",
       "      <td>13.198178</td>\n",
       "      <td>21.184333</td>\n",
       "      <td>0.037015</td>\n",
       "      <td>3.115072</td>\n",
       "      <td>3.134505</td>\n",
       "      <td>0.869</td>\n",
       "    </tr>\n",
       "    <tr>\n",
       "      <th>1613</th>\n",
       "      <td>5</td>\n",
       "      <td>-0.496527</td>\n",
       "      <td>0.406965</td>\n",
       "      <td>0.903492</td>\n",
       "      <td>-0.029873</td>\n",
       "      <td>0.234592</td>\n",
       "      <td>0.234412</td>\n",
       "      <td>-0.446907</td>\n",
       "      <td>-0.022857</td>\n",
       "      <td>0.424051</td>\n",
       "      <td>...</td>\n",
       "      <td>0.895719</td>\n",
       "      <td>2.849410</td>\n",
       "      <td>2.725075</td>\n",
       "      <td>-4.502934</td>\n",
       "      <td>15.722443</td>\n",
       "      <td>20.225377</td>\n",
       "      <td>0.994512</td>\n",
       "      <td>3.540081</td>\n",
       "      <td>3.422777</td>\n",
       "      <td>0.737</td>\n",
       "    </tr>\n",
       "    <tr>\n",
       "      <th>1614</th>\n",
       "      <td>5</td>\n",
       "      <td>-0.331237</td>\n",
       "      <td>0.447057</td>\n",
       "      <td>0.778294</td>\n",
       "      <td>0.005164</td>\n",
       "      <td>0.219257</td>\n",
       "      <td>0.220673</td>\n",
       "      <td>-0.459987</td>\n",
       "      <td>-0.004178</td>\n",
       "      <td>0.455809</td>\n",
       "      <td>...</td>\n",
       "      <td>-0.181636</td>\n",
       "      <td>6.046875</td>\n",
       "      <td>6.084848</td>\n",
       "      <td>-27.197281</td>\n",
       "      <td>16.349290</td>\n",
       "      <td>43.546571</td>\n",
       "      <td>-0.103194</td>\n",
       "      <td>6.342249</td>\n",
       "      <td>6.384113</td>\n",
       "      <td>0.814</td>\n",
       "    </tr>\n",
       "    <tr>\n",
       "      <th>1615</th>\n",
       "      <td>5</td>\n",
       "      <td>-0.359486</td>\n",
       "      <td>0.360127</td>\n",
       "      <td>0.719613</td>\n",
       "      <td>0.006867</td>\n",
       "      <td>0.183124</td>\n",
       "      <td>0.184150</td>\n",
       "      <td>-0.439169</td>\n",
       "      <td>0.080555</td>\n",
       "      <td>0.519725</td>\n",
       "      <td>...</td>\n",
       "      <td>0.193092</td>\n",
       "      <td>5.583506</td>\n",
       "      <td>5.615373</td>\n",
       "      <td>-20.581105</td>\n",
       "      <td>10.885148</td>\n",
       "      <td>31.466252</td>\n",
       "      <td>0.155185</td>\n",
       "      <td>5.551596</td>\n",
       "      <td>5.584439</td>\n",
       "      <td>0.869</td>\n",
       "    </tr>\n",
       "  </tbody>\n",
       "</table>\n",
       "<p>1616 rows × 44 columns</p>\n",
       "</div>"
      ],
      "text/plain": [
       "      label     X_min     X_max   X_range    X_mean     X_rms     X_std  \\\n",
       "0         3 -0.410101 -0.079512  0.330589 -0.251080  0.261023  0.071800   \n",
       "1         3 -0.490864 -0.162326  0.328538 -0.294568  0.307219  0.087798   \n",
       "2         3 -0.402662 -0.076860  0.325802 -0.275716  0.285628  0.075039   \n",
       "3         3 -0.489844  0.188028  0.677872 -0.213912  0.243062  0.116136   \n",
       "4         3 -0.493647  0.016885  0.510532 -0.222940  0.248780  0.111159   \n",
       "...     ...       ...       ...       ...       ...       ...       ...   \n",
       "1611      5 -0.433741  0.432229  0.865970 -0.012953  0.217722  0.218725   \n",
       "1612      5 -0.518294  0.303236  0.821530 -0.076117  0.227993  0.216268   \n",
       "1613      5 -0.496527  0.406965  0.903492 -0.029873  0.234592  0.234412   \n",
       "1614      5 -0.331237  0.447057  0.778294  0.005164  0.219257  0.220673   \n",
       "1615      5 -0.359486  0.360127  0.719613  0.006867  0.183124  0.184150   \n",
       "\n",
       "         Y_min     Y_max   Y_range  ...  Z_jerk_mean  Z_jerk_rms  Z_jerk_std  \\\n",
       "0    -0.269576  0.048283  0.317860  ...     0.392770    3.972709    3.977877   \n",
       "1    -0.273531 -0.021580  0.251951  ...    -0.000206    4.860752    4.891038   \n",
       "2    -0.452995 -0.123180  0.329815  ...     0.075751    4.095743    4.119637   \n",
       "3    -0.281932  0.251616  0.533547  ...     0.156812    6.156164    6.192511   \n",
       "4    -0.275122 -0.017692  0.257430  ...     0.835413    4.158667    4.101701   \n",
       "...        ...       ...       ...  ...          ...         ...         ...   \n",
       "1611 -0.413268  0.027795  0.441063  ...     0.230066    4.486570    4.509298   \n",
       "1612 -0.336440  0.033020  0.369460  ...     0.045476    3.691991    3.715002   \n",
       "1613 -0.446907 -0.022857  0.424051  ...     0.895719    2.849410    2.725075   \n",
       "1614 -0.459987 -0.004178  0.455809  ...    -0.181636    6.046875    6.084848   \n",
       "1615 -0.439169  0.080555  0.519725  ...     0.193092    5.583506    5.615373   \n",
       "\n",
       "      total_jerk_min  total_jerk_max  total_jerk_range  total_jerk_mean  \\\n",
       "0          -6.132857       10.476355         16.609212         0.313927   \n",
       "1          -8.956873       10.840399         19.797273         0.076126   \n",
       "2         -10.770594       12.912274         23.682868         0.047311   \n",
       "3         -29.781430       12.893764         42.675194        -0.037698   \n",
       "4          -6.553897        9.229278         15.783175         0.656306   \n",
       "...              ...             ...               ...              ...   \n",
       "1611      -11.285436       17.537944         28.823380         0.341980   \n",
       "1612       -7.986155       13.198178         21.184333         0.037015   \n",
       "1613       -4.502934       15.722443         20.225377         0.994512   \n",
       "1614      -27.197281       16.349290         43.546571        -0.103194   \n",
       "1615      -20.581105       10.885148         31.466252         0.155185   \n",
       "\n",
       "      total_jerk_rms  total_jerk_std  timestamp_range  \n",
       "0           3.033638        3.036151            0.880  \n",
       "1           4.133738        4.158789            0.880  \n",
       "2           4.002497        4.026255            0.913  \n",
       "3           5.554070        5.588546            0.880  \n",
       "4           3.466983        3.427534            0.803  \n",
       "...              ...             ...              ...  \n",
       "1611        4.932946        4.952523            0.858  \n",
       "1612        3.115072        3.134505            0.869  \n",
       "1613        3.540081        3.422777            0.737  \n",
       "1614        6.342249        6.384113            0.814  \n",
       "1615        5.551596        5.584439            0.869  \n",
       "\n",
       "[1616 rows x 44 columns]"
      ]
     },
     "execution_count": 4,
     "metadata": {},
     "output_type": "execute_result"
    }
   ],
   "source": [
    "data"
   ]
  },
  {
   "cell_type": "code",
   "execution_count": 5,
   "id": "f805bb79",
   "metadata": {},
   "outputs": [],
   "source": [
    "x=data.drop(['label'], axis=1)\n",
    "y=data['label']"
   ]
  },
  {
   "cell_type": "code",
   "execution_count": 6,
   "id": "463a7371",
   "metadata": {},
   "outputs": [
    {
     "data": {
      "text/plain": [
       "((1373, 43), (243, 43))"
      ]
     },
     "execution_count": 6,
     "metadata": {},
     "output_type": "execute_result"
    }
   ],
   "source": [
    "x_train, x_test, y_train, y_test= train_test_split(x,y,test_size=0.15, random_state=42)\n",
    "x_train.shape, x_test.shape"
   ]
  },
  {
   "cell_type": "code",
   "execution_count": 8,
   "id": "f32cbf6e",
   "metadata": {},
   "outputs": [],
   "source": [
    "scaled=StandardScaler()\n",
    "x_train_s=scaled.fit_transform(x_train)\n",
    "x_test_s=scaled.fit_transform(x_test)"
   ]
  },
  {
   "cell_type": "code",
   "execution_count": 11,
   "id": "4c169854",
   "metadata": {},
   "outputs": [
    {
     "name": "stderr",
     "output_type": "stream",
     "text": [
      "2024-06-23 17:23:44.826167: I tensorflow/core/util/port.cc:111] oneDNN custom operations are on. You may see slightly different numerical results due to floating-point round-off errors from different computation orders. To turn them off, set the environment variable `TF_ENABLE_ONEDNN_OPTS=0`.\n",
      "2024-06-23 17:23:44.827578: I tensorflow/tsl/cuda/cudart_stub.cc:28] Could not find cuda drivers on your machine, GPU will not be used.\n",
      "2024-06-23 17:23:44.849617: E tensorflow/compiler/xla/stream_executor/cuda/cuda_dnn.cc:9342] Unable to register cuDNN factory: Attempting to register factory for plugin cuDNN when one has already been registered\n",
      "2024-06-23 17:23:44.849641: E tensorflow/compiler/xla/stream_executor/cuda/cuda_fft.cc:609] Unable to register cuFFT factory: Attempting to register factory for plugin cuFFT when one has already been registered\n",
      "2024-06-23 17:23:44.849658: E tensorflow/compiler/xla/stream_executor/cuda/cuda_blas.cc:1518] Unable to register cuBLAS factory: Attempting to register factory for plugin cuBLAS when one has already been registered\n",
      "2024-06-23 17:23:44.853890: I tensorflow/tsl/cuda/cudart_stub.cc:28] Could not find cuda drivers on your machine, GPU will not be used.\n",
      "2024-06-23 17:23:44.854548: I tensorflow/core/platform/cpu_feature_guard.cc:182] This TensorFlow binary is optimized to use available CPU instructions in performance-critical operations.\n",
      "To enable the following instructions: AVX2 AVX512F AVX512_VNNI FMA, in other operations, rebuild TensorFlow with the appropriate compiler flags.\n",
      "2024-06-23 17:23:45.425696: W tensorflow/compiler/tf2tensorrt/utils/py_utils.cc:38] TF-TRT Warning: Could not find TensorRT\n"
     ]
    }
   ],
   "source": [
    "import tensorflow as tf\n",
    "from tensorflow.keras.layers import Dense,Dropout\n",
    "from tensorflow.keras.models import Sequential"
   ]
  },
  {
   "cell_type": "code",
   "execution_count": 12,
   "id": "3ee79856",
   "metadata": {},
   "outputs": [],
   "source": [
    "model = Sequential([\n",
    "    Dense(800, activation='relu'),  # Define input shape here\n",
    "    Dropout(0.5),  \n",
    "    Dense(400, activation='relu'),  # Define input shape here\n",
    "    Dropout(0.5), \n",
    "    Dense(200, activation='relu'),  # Define input shape here\n",
    "    Dropout(0.4),\n",
    "    Dense(100, activation='relu'),\n",
    "    Dropout(0.3),\n",
    "    Dense(50, activation='relu'),\n",
    "    Dropout(0.2),\n",
    "    Dense(25, activation='relu'),\n",
    "    Dropout(0.4),\n",
    "    Dense(10, activation='relu'),\n",
    "    Dropout(0.2),\n",
    "    Dense(8, activation='softmax')  # 3 output neurons for 3 classes\n",
    "])\n",
    "\n",
    "model.compile(optimizer='Adam', \n",
    "             loss=tf.keras.losses.SparseCategoricalCrossentropy(),\n",
    "             metrics=['accuracy'])"
   ]
  },
  {
   "cell_type": "code",
   "execution_count": 13,
   "id": "6f36b7d4",
   "metadata": {
    "scrolled": false
   },
   "outputs": [
    {
     "data": {
      "text/plain": [
       "<keras.src.callbacks.History at 0x75fcdbde5a90>"
      ]
     },
     "execution_count": 13,
     "metadata": {},
     "output_type": "execute_result"
    }
   ],
   "source": [
    "model.fit(x_train_s, y_train, epochs=20)"
   ]
  },
  {
   "cell_type": "code",
   "execution_count": 14,
   "id": "dfc4df7e",
   "metadata": {},
   "outputs": [
    {
     "name": "stdout",
     "output_type": "stream",
     "text": [
      "Model: \"sequential\"\n",
      "_________________________________________________________________\n",
      " Layer (type)                Output Shape              Param #   \n",
      "=================================================================\n",
      " dense (Dense)               (None, 800)               35200     \n",
      "                                                                 \n",
      " dropout (Dropout)           (None, 800)               0         \n",
      "                                                                 \n",
      " dense_1 (Dense)             (None, 400)               320400    \n",
      "                                                                 \n",
      " dropout_1 (Dropout)         (None, 400)               0         \n",
      "                                                                 \n",
      " dense_2 (Dense)             (None, 200)               80200     \n",
      "                                                                 \n",
      " dropout_2 (Dropout)         (None, 200)               0         \n",
      "                                                                 \n",
      " dense_3 (Dense)             (None, 100)               20100     \n",
      "                                                                 \n",
      " dropout_3 (Dropout)         (None, 100)               0         \n",
      "                                                                 \n",
      " dense_4 (Dense)             (None, 50)                5050      \n",
      "                                                                 \n",
      " dropout_4 (Dropout)         (None, 50)                0         \n",
      "                                                                 \n",
      " dense_5 (Dense)             (None, 25)                1275      \n",
      "                                                                 \n",
      " dropout_5 (Dropout)         (None, 25)                0         \n",
      "                                                                 \n",
      " dense_6 (Dense)             (None, 10)                260       \n",
      "                                                                 \n",
      " dropout_6 (Dropout)         (None, 10)                0         \n",
      "                                                                 \n",
      " dense_7 (Dense)             (None, 8)                 88        \n",
      "                                                                 \n",
      "=================================================================\n",
      "Total params: 462573 (1.76 MB)\n",
      "Trainable params: 462573 (1.76 MB)\n",
      "Non-trainable params: 0 (0.00 Byte)\n",
      "_________________________________________________________________\n"
     ]
    }
   ],
   "source": [
    "model.summary()"
   ]
  },
  {
   "cell_type": "code",
   "execution_count": null,
   "id": "da05e17e",
   "metadata": {},
   "outputs": [],
   "source": []
  },
  {
   "cell_type": "code",
   "execution_count": 13,
   "id": "4ed44fb7",
   "metadata": {},
   "outputs": [
    {
     "name": "stdout",
     "output_type": "stream",
     "text": [
      "43/43 [==============================] - 0s 841us/step\n"
     ]
    }
   ],
   "source": [
    "y_pred=model.predict(x_train_s)"
   ]
  },
  {
   "cell_type": "code",
   "execution_count": 14,
   "id": "57b27d60",
   "metadata": {},
   "outputs": [],
   "source": [
    "y_pred_labels = np.argmax(y_pred, axis=1)\n",
    "#y_pred_labels"
   ]
  },
  {
   "cell_type": "code",
   "execution_count": 15,
   "id": "4584cba2",
   "metadata": {},
   "outputs": [
    {
     "data": {
      "text/plain": [
       "0.9395484340859432"
      ]
     },
     "execution_count": 15,
     "metadata": {},
     "output_type": "execute_result"
    }
   ],
   "source": [
    "accuracy_score(y_train, y_pred_labels)"
   ]
  },
  {
   "cell_type": "code",
   "execution_count": 16,
   "id": "36bc2d65",
   "metadata": {},
   "outputs": [
    {
     "name": "stdout",
     "output_type": "stream",
     "text": [
      "8/8 [==============================] - 0s 1ms/step\n"
     ]
    }
   ],
   "source": [
    "y_test_pred= model.predict(x_test_s)\n",
    "y_test_pred_labels= np.argmax(y_test_pred,axis=1)\n",
    "#y_test_pred"
   ]
  },
  {
   "cell_type": "code",
   "execution_count": 17,
   "id": "e7ce474c",
   "metadata": {},
   "outputs": [
    {
     "data": {
      "text/plain": [
       "array([0, 7, 1, 2, 6, 3, 7, 6, 2, 7, 5, 0, 2, 1, 3, 6, 2, 7, 5, 6, 1, 0,\n",
       "       6, 5, 1, 1, 7, 7, 5, 0, 3, 7, 5, 0, 1, 7, 6, 0, 0, 0, 1, 6, 5, 5,\n",
       "       4, 0, 1, 1, 0, 7, 0, 5, 2, 0, 2, 0, 7, 5, 1, 3, 7, 1, 0, 1, 5, 2,\n",
       "       2, 7, 5, 6, 4, 1, 3, 3, 0, 5, 3, 7, 3, 0, 2, 2, 0, 7, 1, 2, 0, 0,\n",
       "       3, 7, 1, 1, 2, 1, 5, 4, 2, 5, 0, 2, 0, 1, 5, 2, 0, 0, 5, 7, 3, 0,\n",
       "       5, 6, 0, 7, 6, 2, 6, 6, 3, 6, 6, 4, 7, 1, 6, 0, 1, 7, 4, 0, 2, 2,\n",
       "       2, 1, 5, 3, 6, 0, 7, 3, 4, 2, 4, 0, 3, 6, 1, 0, 3, 4, 0, 6, 0, 4,\n",
       "       6, 2, 4, 5, 1, 0, 0, 7, 2, 2, 6, 2, 6, 2, 6, 5, 2, 2, 6, 0, 7, 0,\n",
       "       7, 2, 0, 5, 2, 1, 0, 0, 2, 5, 7, 5, 2, 5, 2, 3, 0, 5, 4, 6, 1, 1,\n",
       "       7, 7, 2, 2, 0, 2, 5, 0, 5, 0, 6, 5, 2, 1, 7, 6, 4, 7, 1, 2, 6, 3,\n",
       "       2, 6, 5, 0, 5, 5, 4, 7, 1, 2, 3, 0, 3, 3, 3, 1, 0, 2, 7, 0, 7, 5,\n",
       "       6])"
      ]
     },
     "execution_count": 17,
     "metadata": {},
     "output_type": "execute_result"
    }
   ],
   "source": [
    "y_test_pred_labels"
   ]
  },
  {
   "cell_type": "code",
   "execution_count": 18,
   "id": "2bcde94f",
   "metadata": {},
   "outputs": [
    {
     "data": {
      "text/plain": [
       "0.6748971193415638"
      ]
     },
     "execution_count": 18,
     "metadata": {},
     "output_type": "execute_result"
    }
   ],
   "source": [
    "accuracy_score(y_test, y_test_pred_labels)"
   ]
  },
  {
   "cell_type": "code",
   "execution_count": 19,
   "id": "e090aec1",
   "metadata": {},
   "outputs": [
    {
     "data": {
      "text/plain": [
       "(243,)"
      ]
     },
     "execution_count": 19,
     "metadata": {},
     "output_type": "execute_result"
    }
   ],
   "source": [
    "y_test_pred_labels.shape"
   ]
  },
  {
   "cell_type": "code",
   "execution_count": 20,
   "id": "9ab91958",
   "metadata": {},
   "outputs": [
    {
     "data": {
      "image/png": "[encoded data removed]",
      "text/plain": [
       "<Figure size 640x480 with 2 Axes>"
      ]
     },
     "metadata": {},
     "output_type": "display_data"
    }
   ],
   "source": [
    "# Create the confusion matrix\n",
    "cm = confusion_matrix(y_test, y_test_pred_labels)\n",
    "\n",
    "ConfusionMatrixDisplay(confusion_matrix=cm).plot();"
   ]
  },
  {
   "cell_type": "code",
   "execution_count": 21,
   "id": "5745d97a",
   "metadata": {},
   "outputs": [],
   "source": [
    "from sklearn.ensemble import RandomForestClassifier,GradientBoostingClassifier\n",
    "from sklearn.metrics import accuracy_score,f1_score"
   ]
  },
  {
   "cell_type": "code",
   "execution_count": 22,
   "id": "7001efac",
   "metadata": {},
   "outputs": [],
   "source": [
    "rfc=RandomForestClassifier()\n",
    "gbc=GradientBoostingClassifier()"
   ]
  },
  {
   "cell_type": "code",
   "execution_count": 23,
   "id": "32c4dedb",
   "metadata": {},
   "outputs": [],
   "source": [
    "model_RFC= rfc.fit(x_train, y_train)\n",
    "model_GBC=gbc.fit(x_train, y_train)"
   ]
  },
  {
   "cell_type": "code",
   "execution_count": 24,
   "id": "7f7b754f",
   "metadata": {},
   "outputs": [
    {
     "data": {
      "text/plain": [
       "1.0"
      ]
     },
     "execution_count": 24,
     "metadata": {},
     "output_type": "execute_result"
    }
   ],
   "source": [
    "y_train_pred= model_RFC.predict(x_train)\n",
    "accuracy_score(y_train_pred, y_train)"
   ]
  },
  {
   "cell_type": "code",
   "execution_count": 25,
   "id": "5bdeda68",
   "metadata": {},
   "outputs": [
    {
     "data": {
      "text/plain": [
       "0.654320987654321"
      ]
     },
     "execution_count": 25,
     "metadata": {},
     "output_type": "execute_result"
    }
   ],
   "source": [
    "y_test_pred=model_RFC.predict(x_test)\n",
    "accuracy_score(y_test_pred,y_test)"
   ]
  },
  {
   "cell_type": "code",
   "execution_count": 26,
   "id": "589ffa09",
   "metadata": {},
   "outputs": [
    {
     "data": {
      "image/png": "[encoded data removed]",
      "text/plain": [
       "<Figure size 640x480 with 2 Axes>"
      ]
     },
     "metadata": {},
     "output_type": "display_data"
    }
   ],
   "source": [
    "y_pred = rfc.predict(x_test)\n",
    "\n",
    "# Create the confusion matrix\n",
    "cm = confusion_matrix(y_test, y_pred)\n",
    "\n",
    "ConfusionMatrixDisplay(confusion_matrix=cm).plot();"
   ]
  },
  {
   "cell_type": "code",
   "execution_count": 27,
   "id": "4b8b74e0",
   "metadata": {},
   "outputs": [
    {
     "data": {
      "text/plain": [
       "0.9992716678805535"
      ]
     },
     "execution_count": 27,
     "metadata": {},
     "output_type": "execute_result"
    }
   ],
   "source": [
    "y_train_pred=model_GBC.predict(x_train)\n",
    "accuracy_score(y_train_pred,y_train)"
   ]
  },
  {
   "cell_type": "code",
   "execution_count": 28,
   "id": "58bbe701",
   "metadata": {},
   "outputs": [
    {
     "data": {
      "text/plain": [
       "0.6502057613168725"
      ]
     },
     "execution_count": 28,
     "metadata": {},
     "output_type": "execute_result"
    }
   ],
   "source": [
    "y_test_pred=model_GBC.predict(x_test)\n",
    "accuracy_score(y_test_pred, y_test)"
   ]
  },
  {
   "cell_type": "code",
   "execution_count": 29,
   "id": "87697e4c",
   "metadata": {},
   "outputs": [
    {
     "data": {
      "image/png": "[encoded data removed]",
      "text/plain": [
       "<Figure size 640x480 with 2 Axes>"
      ]
     },
     "metadata": {},
     "output_type": "display_data"
    }
   ],
   "source": [
    "y_pred = gbc.predict(x_test)\n",
    "\n",
    "# Create the confusion matrix\n",
    "cm = confusion_matrix(y_test, y_pred)\n",
    "\n",
    "ConfusionMatrixDisplay(confusion_matrix=cm).plot();"
   ]
  },
  {
   "cell_type": "code",
   "execution_count": 30,
   "id": "535f7d44",
   "metadata": {},
   "outputs": [],
   "source": [
    "from xgboost import XGBClassifier"
   ]
  },
  {
   "cell_type": "code",
   "execution_count": 31,
   "id": "cbc0782b",
   "metadata": {},
   "outputs": [],
   "source": [
    "xgb=XGBClassifier()"
   ]
  },
  {
   "cell_type": "code",
   "execution_count": 32,
   "id": "b65414ab",
   "metadata": {},
   "outputs": [],
   "source": [
    "model_xg=xgb.fit(x_train_s, y_train)"
   ]
  },
  {
   "cell_type": "code",
   "execution_count": 33,
   "id": "c17f1083",
   "metadata": {},
   "outputs": [],
   "source": [
    "y_train_pred=model_xg.predict(x_train_s)"
   ]
  },
  {
   "cell_type": "code",
   "execution_count": 34,
   "id": "e1ea14c4",
   "metadata": {},
   "outputs": [
    {
     "data": {
      "text/plain": [
       "1.0"
      ]
     },
     "execution_count": 34,
     "metadata": {},
     "output_type": "execute_result"
    }
   ],
   "source": [
    "accuracy_score(y_train_pred, y_train)"
   ]
  },
  {
   "cell_type": "code",
   "execution_count": 35,
   "id": "7acfc34e",
   "metadata": {},
   "outputs": [
    {
     "data": {
      "image/png": "[encoded data removed]",
      "text/plain": [
       "<Figure size 640x480 with 2 Axes>"
      ]
     },
     "metadata": {},
     "output_type": "display_data"
    }
   ],
   "source": [
    "y_pred = xgb.predict(x_test_s)\n",
    "\n",
    "# Create the confusion matrix\n",
    "cm = confusion_matrix(y_test, y_pred)\n",
    "\n",
    "ConfusionMatrixDisplay(confusion_matrix=cm).plot();"
   ]
  },
  {
   "cell_type": "code",
   "execution_count": 36,
   "id": "66c5f7d7",
   "metadata": {},
   "outputs": [
    {
     "data": {
      "text/plain": [
       "0.6502057613168725"
      ]
     },
     "execution_count": 36,
     "metadata": {},
     "output_type": "execute_result"
    }
   ],
   "source": [
    "accuracy_score(y_test_pred, y_test)"
   ]
  }
 ],
 "metadata": {
  "kernelspec": {
   "display_name": "Python 3 (ipykernel)",
   "language": "python",
   "name": "python3"
  },
  "language_info": {
   "codemirror_mode": {
    "name": "ipython",
    "version": 3
   },
   "file_extension": ".py",
   "mimetype": "text/x-python",
   "name": "python",
   "nbconvert_exporter": "python",
   "pygments_lexer": "ipython3",
   "version": "3.11.6"
  }
 },
 "nbformat": 4,
 "nbformat_minor": 5
}
