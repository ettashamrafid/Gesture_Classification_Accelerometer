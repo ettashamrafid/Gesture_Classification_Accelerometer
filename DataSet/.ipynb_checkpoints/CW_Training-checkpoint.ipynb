{
 "cells": [
  {
   "cell_type": "code",
   "execution_count": 1,
   "id": "8254dbf9",
   "metadata": {},
   "outputs": [],
   "source": [
    "import numpy as np\n",
    "import pandas as pd\n",
    "import matplotlib.pyplot as plt"
   ]
  },
  {
   "cell_type": "code",
   "execution_count": 2,
   "id": "4d12a8ff",
   "metadata": {},
   "outputs": [],
   "source": [
    "from sklearn.preprocessing import StandardScaler, PolynomialFeatures\n",
    "from sklearn.linear_model import LinearRegression\n",
    "from sklearn.model_selection import train_test_split,KFold\n",
    "from sklearn.metrics import accuracy_score, confusion_matrix, precision_score, recall_score, ConfusionMatrixDisplay"
   ]
  },
  {
   "cell_type": "code",
   "execution_count": 3,
   "id": "cbe789f3",
   "metadata": {},
   "outputs": [],
   "source": [
    "data=pd.read_csv('ML_Data_CW.csv')"
   ]
  },
  {
   "cell_type": "code",
   "execution_count": 4,
   "id": "b4fcf1e6",
   "metadata": {},
   "outputs": [
    {
     "data": {
      "text/html": [
       "<div>\n",
       "<style scoped>\n",
       "    .dataframe tbody tr th:only-of-type {\n",
       "        vertical-align: middle;\n",
       "    }\n",
       "\n",
       "    .dataframe tbody tr th {\n",
       "        vertical-align: top;\n",
       "    }\n",
       "\n",
       "    .dataframe thead th {\n",
       "        text-align: right;\n",
       "    }\n",
       "</style>\n",
       "<table border=\"1\" class=\"dataframe\">\n",
       "  <thead>\n",
       "    <tr style=\"text-align: right;\">\n",
       "      <th></th>\n",
       "      <th>label</th>\n",
       "      <th>X_min</th>\n",
       "      <th>X_max</th>\n",
       "      <th>X_range</th>\n",
       "      <th>X_mean</th>\n",
       "      <th>X_rms</th>\n",
       "      <th>X_std</th>\n",
       "      <th>Y_min</th>\n",
       "      <th>Y_max</th>\n",
       "      <th>Y_range</th>\n",
       "      <th>...</th>\n",
       "      <th>Z_jerk_mean</th>\n",
       "      <th>Z_jerk_rms</th>\n",
       "      <th>Z_jerk_std</th>\n",
       "      <th>total_jerk_min</th>\n",
       "      <th>total_jerk_max</th>\n",
       "      <th>total_jerk_range</th>\n",
       "      <th>total_jerk_mean</th>\n",
       "      <th>total_jerk_rms</th>\n",
       "      <th>total_jerk_std</th>\n",
       "      <th>timestamp_range</th>\n",
       "    </tr>\n",
       "  </thead>\n",
       "  <tbody>\n",
       "    <tr>\n",
       "      <th>0</th>\n",
       "      <td>1</td>\n",
       "      <td>-0.502504</td>\n",
       "      <td>-0.030203</td>\n",
       "      <td>0.472301</td>\n",
       "      <td>-0.261169</td>\n",
       "      <td>0.280479</td>\n",
       "      <td>0.102941</td>\n",
       "      <td>-0.600249</td>\n",
       "      <td>-0.250584</td>\n",
       "      <td>0.349666</td>\n",
       "      <td>...</td>\n",
       "      <td>0.244585</td>\n",
       "      <td>5.287233</td>\n",
       "      <td>5.316206</td>\n",
       "      <td>-9.684244</td>\n",
       "      <td>15.159993</td>\n",
       "      <td>24.844237</td>\n",
       "      <td>0.134149</td>\n",
       "      <td>4.993043</td>\n",
       "      <td>5.023970</td>\n",
       "      <td>0.836</td>\n",
       "    </tr>\n",
       "    <tr>\n",
       "      <th>1</th>\n",
       "      <td>1</td>\n",
       "      <td>-0.442316</td>\n",
       "      <td>0.060724</td>\n",
       "      <td>0.503040</td>\n",
       "      <td>-0.230026</td>\n",
       "      <td>0.267338</td>\n",
       "      <td>0.137156</td>\n",
       "      <td>-0.449447</td>\n",
       "      <td>-0.234752</td>\n",
       "      <td>0.214694</td>\n",
       "      <td>...</td>\n",
       "      <td>0.232750</td>\n",
       "      <td>3.246632</td>\n",
       "      <td>3.260383</td>\n",
       "      <td>-7.923931</td>\n",
       "      <td>8.028534</td>\n",
       "      <td>15.952465</td>\n",
       "      <td>0.348228</td>\n",
       "      <td>3.223875</td>\n",
       "      <td>3.226891</td>\n",
       "      <td>0.803</td>\n",
       "    </tr>\n",
       "    <tr>\n",
       "      <th>2</th>\n",
       "      <td>1</td>\n",
       "      <td>-0.356158</td>\n",
       "      <td>0.023600</td>\n",
       "      <td>0.379757</td>\n",
       "      <td>-0.191808</td>\n",
       "      <td>0.213684</td>\n",
       "      <td>0.094770</td>\n",
       "      <td>-0.342600</td>\n",
       "      <td>-0.141993</td>\n",
       "      <td>0.200607</td>\n",
       "      <td>...</td>\n",
       "      <td>-0.056971</td>\n",
       "      <td>2.261067</td>\n",
       "      <td>2.274433</td>\n",
       "      <td>-5.001040</td>\n",
       "      <td>5.078630</td>\n",
       "      <td>10.079670</td>\n",
       "      <td>-0.101737</td>\n",
       "      <td>2.537621</td>\n",
       "      <td>2.551379</td>\n",
       "      <td>0.880</td>\n",
       "    </tr>\n",
       "    <tr>\n",
       "      <th>3</th>\n",
       "      <td>1</td>\n",
       "      <td>-0.541919</td>\n",
       "      <td>0.072603</td>\n",
       "      <td>0.614521</td>\n",
       "      <td>-0.230884</td>\n",
       "      <td>0.282992</td>\n",
       "      <td>0.164753</td>\n",
       "      <td>-0.485829</td>\n",
       "      <td>-0.159352</td>\n",
       "      <td>0.326477</td>\n",
       "      <td>...</td>\n",
       "      <td>0.233179</td>\n",
       "      <td>3.462052</td>\n",
       "      <td>3.477769</td>\n",
       "      <td>-7.164028</td>\n",
       "      <td>11.682707</td>\n",
       "      <td>18.846735</td>\n",
       "      <td>0.235282</td>\n",
       "      <td>3.962899</td>\n",
       "      <td>3.982912</td>\n",
       "      <td>0.803</td>\n",
       "    </tr>\n",
       "    <tr>\n",
       "      <th>4</th>\n",
       "      <td>1</td>\n",
       "      <td>-0.475293</td>\n",
       "      <td>-0.070361</td>\n",
       "      <td>0.404933</td>\n",
       "      <td>-0.239275</td>\n",
       "      <td>0.260390</td>\n",
       "      <td>0.103333</td>\n",
       "      <td>-0.419703</td>\n",
       "      <td>-0.141479</td>\n",
       "      <td>0.278224</td>\n",
       "      <td>...</td>\n",
       "      <td>0.010544</td>\n",
       "      <td>3.357615</td>\n",
       "      <td>3.377764</td>\n",
       "      <td>-14.967910</td>\n",
       "      <td>6.686777</td>\n",
       "      <td>21.654687</td>\n",
       "      <td>0.004709</td>\n",
       "      <td>3.326504</td>\n",
       "      <td>3.346480</td>\n",
       "      <td>0.913</td>\n",
       "    </tr>\n",
       "    <tr>\n",
       "      <th>...</th>\n",
       "      <td>...</td>\n",
       "      <td>...</td>\n",
       "      <td>...</td>\n",
       "      <td>...</td>\n",
       "      <td>...</td>\n",
       "      <td>...</td>\n",
       "      <td>...</td>\n",
       "      <td>...</td>\n",
       "      <td>...</td>\n",
       "      <td>...</td>\n",
       "      <td>...</td>\n",
       "      <td>...</td>\n",
       "      <td>...</td>\n",
       "      <td>...</td>\n",
       "      <td>...</td>\n",
       "      <td>...</td>\n",
       "      <td>...</td>\n",
       "      <td>...</td>\n",
       "      <td>...</td>\n",
       "      <td>...</td>\n",
       "      <td>...</td>\n",
       "    </tr>\n",
       "    <tr>\n",
       "      <th>1004</th>\n",
       "      <td>4</td>\n",
       "      <td>-0.665387</td>\n",
       "      <td>0.280943</td>\n",
       "      <td>0.946330</td>\n",
       "      <td>-0.255369</td>\n",
       "      <td>0.368820</td>\n",
       "      <td>0.267494</td>\n",
       "      <td>-0.386366</td>\n",
       "      <td>0.073939</td>\n",
       "      <td>0.460305</td>\n",
       "      <td>...</td>\n",
       "      <td>0.161364</td>\n",
       "      <td>5.223135</td>\n",
       "      <td>5.247763</td>\n",
       "      <td>-9.084948</td>\n",
       "      <td>17.200102</td>\n",
       "      <td>26.285050</td>\n",
       "      <td>0.216506</td>\n",
       "      <td>4.569351</td>\n",
       "      <td>4.587929</td>\n",
       "      <td>1.056</td>\n",
       "    </tr>\n",
       "    <tr>\n",
       "      <th>1005</th>\n",
       "      <td>4</td>\n",
       "      <td>-0.794374</td>\n",
       "      <td>0.191394</td>\n",
       "      <td>0.985769</td>\n",
       "      <td>-0.333428</td>\n",
       "      <td>0.422535</td>\n",
       "      <td>0.261013</td>\n",
       "      <td>-0.249899</td>\n",
       "      <td>-0.019911</td>\n",
       "      <td>0.229988</td>\n",
       "      <td>...</td>\n",
       "      <td>-0.182326</td>\n",
       "      <td>2.671284</td>\n",
       "      <td>2.680154</td>\n",
       "      <td>-8.378837</td>\n",
       "      <td>6.261163</td>\n",
       "      <td>14.640000</td>\n",
       "      <td>-0.177289</td>\n",
       "      <td>3.246206</td>\n",
       "      <td>3.259726</td>\n",
       "      <td>0.968</td>\n",
       "    </tr>\n",
       "    <tr>\n",
       "      <th>1006</th>\n",
       "      <td>4</td>\n",
       "      <td>-0.902029</td>\n",
       "      <td>-0.018586</td>\n",
       "      <td>0.883443</td>\n",
       "      <td>-0.391159</td>\n",
       "      <td>0.436665</td>\n",
       "      <td>0.195109</td>\n",
       "      <td>-0.241418</td>\n",
       "      <td>0.052878</td>\n",
       "      <td>0.294296</td>\n",
       "      <td>...</td>\n",
       "      <td>0.083980</td>\n",
       "      <td>2.938303</td>\n",
       "      <td>2.952521</td>\n",
       "      <td>-4.770951</td>\n",
       "      <td>6.946535</td>\n",
       "      <td>11.717486</td>\n",
       "      <td>0.024020</td>\n",
       "      <td>2.736484</td>\n",
       "      <td>2.750743</td>\n",
       "      <td>1.045</td>\n",
       "    </tr>\n",
       "    <tr>\n",
       "      <th>1007</th>\n",
       "      <td>4</td>\n",
       "      <td>-0.694884</td>\n",
       "      <td>0.250016</td>\n",
       "      <td>0.944900</td>\n",
       "      <td>-0.284724</td>\n",
       "      <td>0.366149</td>\n",
       "      <td>0.231193</td>\n",
       "      <td>-0.282177</td>\n",
       "      <td>0.114003</td>\n",
       "      <td>0.396180</td>\n",
       "      <td>...</td>\n",
       "      <td>0.321475</td>\n",
       "      <td>6.069543</td>\n",
       "      <td>6.086871</td>\n",
       "      <td>-14.007623</td>\n",
       "      <td>18.447160</td>\n",
       "      <td>32.454783</td>\n",
       "      <td>0.141402</td>\n",
       "      <td>4.968456</td>\n",
       "      <td>4.987622</td>\n",
       "      <td>1.287</td>\n",
       "    </tr>\n",
       "    <tr>\n",
       "      <th>1008</th>\n",
       "      <td>4</td>\n",
       "      <td>-0.684816</td>\n",
       "      <td>0.129413</td>\n",
       "      <td>0.814229</td>\n",
       "      <td>-0.285625</td>\n",
       "      <td>0.393608</td>\n",
       "      <td>0.272431</td>\n",
       "      <td>-0.230299</td>\n",
       "      <td>0.054917</td>\n",
       "      <td>0.285217</td>\n",
       "      <td>...</td>\n",
       "      <td>-0.213856</td>\n",
       "      <td>2.739955</td>\n",
       "      <td>2.747808</td>\n",
       "      <td>-8.846468</td>\n",
       "      <td>7.017245</td>\n",
       "      <td>15.863713</td>\n",
       "      <td>-0.138292</td>\n",
       "      <td>3.460668</td>\n",
       "      <td>3.478426</td>\n",
       "      <td>0.924</td>\n",
       "    </tr>\n",
       "  </tbody>\n",
       "</table>\n",
       "<p>1009 rows × 44 columns</p>\n",
       "</div>"
      ],
      "text/plain": [
       "      label     X_min     X_max   X_range    X_mean     X_rms     X_std  \\\n",
       "0         1 -0.502504 -0.030203  0.472301 -0.261169  0.280479  0.102941   \n",
       "1         1 -0.442316  0.060724  0.503040 -0.230026  0.267338  0.137156   \n",
       "2         1 -0.356158  0.023600  0.379757 -0.191808  0.213684  0.094770   \n",
       "3         1 -0.541919  0.072603  0.614521 -0.230884  0.282992  0.164753   \n",
       "4         1 -0.475293 -0.070361  0.404933 -0.239275  0.260390  0.103333   \n",
       "...     ...       ...       ...       ...       ...       ...       ...   \n",
       "1004      4 -0.665387  0.280943  0.946330 -0.255369  0.368820  0.267494   \n",
       "1005      4 -0.794374  0.191394  0.985769 -0.333428  0.422535  0.261013   \n",
       "1006      4 -0.902029 -0.018586  0.883443 -0.391159  0.436665  0.195109   \n",
       "1007      4 -0.694884  0.250016  0.944900 -0.284724  0.366149  0.231193   \n",
       "1008      4 -0.684816  0.129413  0.814229 -0.285625  0.393608  0.272431   \n",
       "\n",
       "         Y_min     Y_max   Y_range  ...  Z_jerk_mean  Z_jerk_rms  Z_jerk_std  \\\n",
       "0    -0.600249 -0.250584  0.349666  ...     0.244585    5.287233    5.316206   \n",
       "1    -0.449447 -0.234752  0.214694  ...     0.232750    3.246632    3.260383   \n",
       "2    -0.342600 -0.141993  0.200607  ...    -0.056971    2.261067    2.274433   \n",
       "3    -0.485829 -0.159352  0.326477  ...     0.233179    3.462052    3.477769   \n",
       "4    -0.419703 -0.141479  0.278224  ...     0.010544    3.357615    3.377764   \n",
       "...        ...       ...       ...  ...          ...         ...         ...   \n",
       "1004 -0.386366  0.073939  0.460305  ...     0.161364    5.223135    5.247763   \n",
       "1005 -0.249899 -0.019911  0.229988  ...    -0.182326    2.671284    2.680154   \n",
       "1006 -0.241418  0.052878  0.294296  ...     0.083980    2.938303    2.952521   \n",
       "1007 -0.282177  0.114003  0.396180  ...     0.321475    6.069543    6.086871   \n",
       "1008 -0.230299  0.054917  0.285217  ...    -0.213856    2.739955    2.747808   \n",
       "\n",
       "      total_jerk_min  total_jerk_max  total_jerk_range  total_jerk_mean  \\\n",
       "0          -9.684244       15.159993         24.844237         0.134149   \n",
       "1          -7.923931        8.028534         15.952465         0.348228   \n",
       "2          -5.001040        5.078630         10.079670        -0.101737   \n",
       "3          -7.164028       11.682707         18.846735         0.235282   \n",
       "4         -14.967910        6.686777         21.654687         0.004709   \n",
       "...              ...             ...               ...              ...   \n",
       "1004       -9.084948       17.200102         26.285050         0.216506   \n",
       "1005       -8.378837        6.261163         14.640000        -0.177289   \n",
       "1006       -4.770951        6.946535         11.717486         0.024020   \n",
       "1007      -14.007623       18.447160         32.454783         0.141402   \n",
       "1008       -8.846468        7.017245         15.863713        -0.138292   \n",
       "\n",
       "      total_jerk_rms  total_jerk_std  timestamp_range  \n",
       "0           4.993043        5.023970            0.836  \n",
       "1           3.223875        3.226891            0.803  \n",
       "2           2.537621        2.551379            0.880  \n",
       "3           3.962899        3.982912            0.803  \n",
       "4           3.326504        3.346480            0.913  \n",
       "...              ...             ...              ...  \n",
       "1004        4.569351        4.587929            1.056  \n",
       "1005        3.246206        3.259726            0.968  \n",
       "1006        2.736484        2.750743            1.045  \n",
       "1007        4.968456        4.987622            1.287  \n",
       "1008        3.460668        3.478426            0.924  \n",
       "\n",
       "[1009 rows x 44 columns]"
      ]
     },
     "execution_count": 4,
     "metadata": {},
     "output_type": "execute_result"
    }
   ],
   "source": [
    "data"
   ]
  },
  {
   "cell_type": "code",
   "execution_count": 5,
   "id": "f805bb79",
   "metadata": {},
   "outputs": [],
   "source": [
    "x=data.drop(['label'], axis=1)\n",
    "y=data['label']"
   ]
  },
  {
   "cell_type": "code",
   "execution_count": 6,
   "id": "463a7371",
   "metadata": {},
   "outputs": [
    {
     "data": {
      "text/plain": [
       "((857, 43), (152, 43))"
      ]
     },
     "execution_count": 6,
     "metadata": {},
     "output_type": "execute_result"
    }
   ],
   "source": [
    "x_train, x_test, y_train, y_test= train_test_split(x,y,test_size=0.15, random_state=42)\n",
    "x_train.shape, x_test.shape"
   ]
  },
  {
   "cell_type": "code",
   "execution_count": 7,
   "id": "f32cbf6e",
   "metadata": {},
   "outputs": [],
   "source": [
    "scaled=StandardScaler()\n",
    "x_train_s=scaled.fit_transform(x_train)\n",
    "x_test_s=scaled.fit_transform(x_test)"
   ]
  },
  {
   "cell_type": "code",
   "execution_count": 8,
   "id": "5745d97a",
   "metadata": {},
   "outputs": [],
   "source": [
    "from sklearn.ensemble import RandomForestClassifier,GradientBoostingClassifier\n",
    "from sklearn.metrics import accuracy_score,f1_score"
   ]
  },
  {
   "cell_type": "code",
   "execution_count": 9,
   "id": "7001efac",
   "metadata": {},
   "outputs": [],
   "source": [
    "rfc=RandomForestClassifier()\n",
    "gbc=GradientBoostingClassifier()"
   ]
  },
  {
   "cell_type": "code",
   "execution_count": 10,
   "id": "32c4dedb",
   "metadata": {},
   "outputs": [],
   "source": [
    "model_RFC= rfc.fit(x_train, y_train)\n",
    "model_GBC=gbc.fit(x_train, y_train)"
   ]
  },
  {
   "cell_type": "code",
   "execution_count": 11,
   "id": "7f7b754f",
   "metadata": {},
   "outputs": [
    {
     "data": {
      "text/plain": [
       "1.0"
      ]
     },
     "execution_count": 11,
     "metadata": {},
     "output_type": "execute_result"
    }
   ],
   "source": [
    "y_train_pred= model_RFC.predict(x_train)\n",
    "accuracy_score(y_train_pred, y_train)"
   ]
  },
  {
   "cell_type": "code",
   "execution_count": 12,
   "id": "5bdeda68",
   "metadata": {},
   "outputs": [
    {
     "data": {
      "text/plain": [
       "0.7894736842105263"
      ]
     },
     "execution_count": 12,
     "metadata": {},
     "output_type": "execute_result"
    }
   ],
   "source": [
    "y_test_pred=model_RFC.predict(x_test)\n",
    "accuracy_score(y_test_pred,y_test)"
   ]
  },
  {
   "cell_type": "code",
   "execution_count": 13,
   "id": "589ffa09",
   "metadata": {},
   "outputs": [
    {
     "data": {
      "image/png": "[encoded data removed]",
      "text/plain": [
       "<Figure size 640x480 with 2 Axes>"
      ]
     },
     "metadata": {},
     "output_type": "display_data"
    }
   ],
   "source": [
    "y_pred = rfc.predict(x_test)\n",
    "\n",
    "# Create the confusion matrix\n",
    "cm = confusion_matrix(y_test, y_pred)\n",
    "\n",
    "ConfusionMatrixDisplay(confusion_matrix=cm).plot();"
   ]
  },
  {
   "cell_type": "code",
   "execution_count": 14,
   "id": "4b8b74e0",
   "metadata": {},
   "outputs": [
    {
     "data": {
      "text/plain": [
       "1.0"
      ]
     },
     "execution_count": 14,
     "metadata": {},
     "output_type": "execute_result"
    }
   ],
   "source": [
    "y_train_pred=model_GBC.predict(x_train)\n",
    "accuracy_score(y_train_pred,y_train)"
   ]
  },
  {
   "cell_type": "code",
   "execution_count": 15,
   "id": "58bbe701",
   "metadata": {},
   "outputs": [
    {
     "data": {
      "text/plain": [
       "0.8223684210526315"
      ]
     },
     "execution_count": 15,
     "metadata": {},
     "output_type": "execute_result"
    }
   ],
   "source": [
    "y_test_pred=model_GBC.predict(x_test)\n",
    "accuracy_score(y_test_pred, y_test)"
   ]
  },
  {
   "cell_type": "code",
   "execution_count": 16,
   "id": "87697e4c",
   "metadata": {},
   "outputs": [
    {
     "data": {
      "image/png": "[encoded data removed]",
      "text/plain": [
       "<Figure size 640x480 with 2 Axes>"
      ]
     },
     "metadata": {},
     "output_type": "display_data"
    }
   ],
   "source": [
    "y_pred = gbc.predict(x_test)\n",
    "\n",
    "# Create the confusion matrix\n",
    "cm = confusion_matrix(y_test, y_pred)\n",
    "\n",
    "ConfusionMatrixDisplay(confusion_matrix=cm).plot();"
   ]
  },
  {
   "cell_type": "code",
   "execution_count": 17,
   "id": "535f7d44",
   "metadata": {},
   "outputs": [],
   "source": [
    "from xgboost import XGBClassifier"
   ]
  },
  {
   "cell_type": "code",
   "execution_count": 18,
   "id": "cbc0782b",
   "metadata": {},
   "outputs": [],
   "source": [
    "xgb=XGBClassifier()"
   ]
  },
  {
   "cell_type": "code",
   "execution_count": 19,
   "id": "b65414ab",
   "metadata": {},
   "outputs": [],
   "source": [
    "model_xg=xgb.fit(x_train_s, y_train)"
   ]
  },
  {
   "cell_type": "code",
   "execution_count": 20,
   "id": "c17f1083",
   "metadata": {},
   "outputs": [],
   "source": [
    "y_train_pred=model_xg.predict(x_train_s)"
   ]
  },
  {
   "cell_type": "code",
   "execution_count": 21,
   "id": "e1ea14c4",
   "metadata": {},
   "outputs": [
    {
     "data": {
      "text/plain": [
       "1.0"
      ]
     },
     "execution_count": 21,
     "metadata": {},
     "output_type": "execute_result"
    }
   ],
   "source": [
    "accuracy_score(y_train_pred, y_train)"
   ]
  },
  {
   "cell_type": "code",
   "execution_count": 22,
   "id": "7acfc34e",
   "metadata": {},
   "outputs": [
    {
     "data": {
      "image/png": "[encoded data removed]",
      "text/plain": [
       "<Figure size 640x480 with 2 Axes>"
      ]
     },
     "metadata": {},
     "output_type": "display_data"
    }
   ],
   "source": [
    "y_pred = xgb.predict(x_test_s)\n",
    "\n",
    "# Create the confusion matrix\n",
    "cm = confusion_matrix(y_test, y_pred)\n",
    "\n",
    "ConfusionMatrixDisplay(confusion_matrix=cm).plot();"
   ]
  },
  {
   "cell_type": "code",
   "execution_count": 23,
   "id": "66c5f7d7",
   "metadata": {},
   "outputs": [
    {
     "data": {
      "text/plain": [
       "0.8223684210526315"
      ]
     },
     "execution_count": 23,
     "metadata": {},
     "output_type": "execute_result"
    }
   ],
   "source": [
    "accuracy_score(y_test_pred, y_test)"
   ]
  }
 ],
 "metadata": {
  "kernelspec": {
   "display_name": "Python 3 (ipykernel)",
   "language": "python",
   "name": "python3"
  },
  "language_info": {
   "codemirror_mode": {
    "name": "ipython",
    "version": 3
   },
   "file_extension": ".py",
   "mimetype": "text/x-python",
   "name": "python",
   "nbconvert_exporter": "python",
   "pygments_lexer": "ipython3",
   "version": "3.11.6"
  }
 },
 "nbformat": 4,
 "nbformat_minor": 5
}
